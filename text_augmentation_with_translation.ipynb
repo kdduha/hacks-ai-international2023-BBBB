{
 "cells": [
  {
   "cell_type": "code",
   "execution_count": 1,
   "id": "3261c3aa",
   "metadata": {},
   "outputs": [],
   "source": [
    "import pandas as pd\n",
    "import numpy as np\n",
    "from tqdm import tqdm\n",
    "from deep_translator import GoogleTranslator\n",
    "from augmentex.char import CharAug\n",
    "from time import sleep\n",
    "from random import shuffle\n",
    "\n",
    "tqdm.pandas()"
   ]
  },
  {
   "cell_type": "markdown",
   "id": "e5892866",
   "metadata": {},
   "source": [
    "### Preparation"
   ]
  },
  {
   "cell_type": "code",
   "execution_count": 48,
   "id": "d5cdbff3",
   "metadata": {
    "scrolled": true
   },
   "outputs": [],
   "source": [
    "# text augmentation class\n",
    "class TextAugmentation:\n",
    "    def __init__(self):\n",
    "        self.__translator = GoogleTranslator()\n",
    "        self.__deffault_languages = ['ru', 'zh-TW', 'ar', 'ak', 'ru']\n",
    "        self.__corruptor = CharAug(unit_prob=0.02, \n",
    "                                   min_aug=1, \n",
    "                                   max_aug=3, \n",
    "                                   mult_num=3)\n",
    "    \n",
    "    # split text for batches\n",
    "    def split_text(self, text, max_length):\n",
    "        # split the text into words \n",
    "        words = text.split()\n",
    "\n",
    "        result = []\n",
    "        current_chunk = []\n",
    "\n",
    "        for word in words:\n",
    "            if len(' '.join(current_chunk)) + len(word) + len(current_chunk) <= max_length:\n",
    "                # add the word to the current chunk\n",
    "                current_chunk.append(word)\n",
    "            else:\n",
    "                # start a new chunk\n",
    "                result.append(' '.join(current_chunk))\n",
    "                current_chunk = [word]\n",
    "\n",
    "        if current_chunk:\n",
    "            # add the last chunk to the result\n",
    "            result.append(' '.join(current_chunk))\n",
    "\n",
    "        return result\n",
    "    \n",
    "    # translate large texts (>2000 symbols)\n",
    "    def translation_large(self, text, langs=['ru', 'zh-TW', 'ak', 'ar', 'ru']):\n",
    "        batches = self.split_text(text, 2000)\n",
    "        result = \"\"\n",
    "        \n",
    "        for batch in batches:\n",
    "            result += str(self.translation(batch, langs=langs))\n",
    "            sleep(0.1)\n",
    "        return result\n",
    "        \n",
    "    # translate texts\n",
    "    def translation(self, text, langs=['ru', 'zh-TW', 'ak', 'ar', 'ru']):\n",
    "        if len(text) > 3000:\n",
    "            text = self.translation_large(text, langs=langs)\n",
    "            return text\n",
    "        \n",
    "        # trash text\n",
    "        if len(text) < 3:\n",
    "            return ''\n",
    "        \n",
    "        text = text[:5000-1]\n",
    "        number = len(langs)-1\n",
    "        for i in range(number):\n",
    "            self.__translator.source = langs[i]\n",
    "            self.__translator.target = langs[i+1]\n",
    "            text = self.__translator.translate(text)\n",
    "            sleep(0.1)\n",
    "            \n",
    "        return text\n",
    "    \n",
    "    # corruptor with char augmentation\n",
    "    def corruption(self, text, seed=None):\n",
    "        return self.__corruptor.augment(text=text)\n",
    "    \n",
    "    # translation + char corruption\n",
    "    def translation_corruption(self, text, langs=['ru', 'zh-TW', 'ak', 'ar', 'ru'], seed=None):\n",
    "        text = self.translation(text, langs=langs)\n",
    "        return self.corruption(text, seed=seed)\n",
    "    \n",
    "    # translation aug for dataframes with multiplier\n",
    "    def tr_df(self, df, label, mult=1.5, langs=['ru', 'zh-TW', 'ak', 'ar', 'ru']):\n",
    "        label_df = df[df['label'] == label]\n",
    "        num_rows = label_df.shape[0]\n",
    "        new_df_list = [df]\n",
    "        \n",
    "        # aug for multiplier > 1\n",
    "        if mult-1 > 0:\n",
    "            for i in range(int(mult-1)):\n",
    "                new_text = label_df['text'].progress_apply(lambda x: self.translation(x, langs=langs))\n",
    "                new_text = pd.DataFrame({'text': new_text})\n",
    "                new_text['label'] = label_df['label']\n",
    "                new_df_list.append(new_text)\n",
    "                label_df = new_text\n",
    "            \n",
    "        # aug for multiplier < 1\n",
    "        new_text = label_df['text'].iloc[:int(mult%1*num_rows)].progress_apply(lambda x: self.translation(x, langs=langs))\n",
    "        new_text = pd.DataFrame({'text': new_text})\n",
    "        new_text['label'] = label_df['label'].iloc[:int(mult%1*num_rows)]\n",
    "        new_df_list.append(new_text)\n",
    "        \n",
    "        return pd.concat(new_df_list, ignore_index=True)\n",
    "    \n",
    "    # look supported google langs\n",
    "    def get_supported_langs(self):\n",
    "        return self.__translator.get_supported_langs(as_dict=True)\n",
    "        \n",
    "    "
   ]
  },
  {
   "cell_type": "code",
   "execution_count": 4,
   "id": "50156c02",
   "metadata": {},
   "outputs": [
    {
     "data": {
      "text/plain": [
       "Index(['Исполнитель', 'Группа тем', 'Текст инцидента', 'Тема'], dtype='object')"
      ]
     },
     "execution_count": 4,
     "metadata": {},
     "output_type": "execute_result"
    }
   ],
   "source": [
    "df = pd.read_csv('preprocessed.csv', sep=';')\n",
    "df.columns"
   ]
  },
  {
   "cell_type": "code",
   "execution_count": 5,
   "id": "400cd8e3",
   "metadata": {},
   "outputs": [
    {
     "data": {
      "text/html": [
       "<div>\n",
       "<style scoped>\n",
       "    .dataframe tbody tr th:only-of-type {\n",
       "        vertical-align: middle;\n",
       "    }\n",
       "\n",
       "    .dataframe tbody tr th {\n",
       "        vertical-align: top;\n",
       "    }\n",
       "\n",
       "    .dataframe thead th {\n",
       "        text-align: right;\n",
       "    }\n",
       "</style>\n",
       "<table border=\"1\" class=\"dataframe\">\n",
       "  <thead>\n",
       "    <tr style=\"text-align: right;\">\n",
       "      <th></th>\n",
       "      <th>Исполнитель</th>\n",
       "      <th>label</th>\n",
       "      <th>text</th>\n",
       "      <th>Тема</th>\n",
       "    </tr>\n",
       "  </thead>\n",
       "  <tbody>\n",
       "    <tr>\n",
       "      <th>0</th>\n",
       "      <td>Лысьвенский городской округ</td>\n",
       "      <td>Благоустройство</td>\n",
       "      <td>Добрый день. Сегодня,.., моя мать шла по улице...</td>\n",
       "      <td>★ Ямы во дворах</td>\n",
       "    </tr>\n",
       "    <tr>\n",
       "      <th>1</th>\n",
       "      <td>Министерство социального развития ПК</td>\n",
       "      <td>Социальное обслуживание и защита</td>\n",
       "      <td>Пермь г,. В Перми с ноября года не работает со...</td>\n",
       "      <td>Оказание гос. соц. помощи</td>\n",
       "    </tr>\n",
       "  </tbody>\n",
       "</table>\n",
       "</div>"
      ],
      "text/plain": [
       "                            Исполнитель                             label  \\\n",
       "0           Лысьвенский городской округ                   Благоустройство   \n",
       "1  Министерство социального развития ПК  Социальное обслуживание и защита   \n",
       "\n",
       "                                                text  \\\n",
       "0  Добрый день. Сегодня,.., моя мать шла по улице...   \n",
       "1  Пермь г,. В Перми с ноября года не работает со...   \n",
       "\n",
       "                        Тема  \n",
       "0            ★ Ямы во дворах  \n",
       "1  Оказание гос. соц. помощи  "
      ]
     },
     "execution_count": 5,
     "metadata": {},
     "output_type": "execute_result"
    }
   ],
   "source": [
    "df.columns = ['Исполнитель', 'label',  'text', 'Тема']\n",
    "df.head(2)"
   ]
  },
  {
   "cell_type": "code",
   "execution_count": 6,
   "id": "bfe87384",
   "metadata": {},
   "outputs": [
    {
     "data": {
      "text/plain": [
       "label\n",
       "Здравоохранение/Медицина                    4625\n",
       "Социальное обслуживание и защита            4550\n",
       "Дороги                                      3078\n",
       "ЖКХ                                         2664\n",
       "Благоустройство                             2482\n",
       "Мусор/Свалки/ТКО                            1701\n",
       "Общественный транспорт                       862\n",
       "Коронавирус                                  808\n",
       "Образование                                  693\n",
       "Безопасность                                 292\n",
       "Связь и телевидение                          229\n",
       "Мобилизация                                  130\n",
       "Физическая культура и спорт                  120\n",
       "Строительство и архитектура                  109\n",
       "Газ и топливо                                 81\n",
       "Спецпроекты                                   81\n",
       "Культура                                      68\n",
       "Электроснабжение                              37\n",
       "Экономика и бизнес                            28\n",
       "Экология                                      25\n",
       "Памятники и объекты культурного наследия      23\n",
       "Роспотребнадзор                               23\n",
       "Государственная собственность                 22\n",
       "Торговля                                      20\n",
       "МФЦ \"Мои документы\"                           18\n",
       "Погребение и похоронное дело                  11\n",
       "Name: count, dtype: int64"
      ]
     },
     "execution_count": 6,
     "metadata": {},
     "output_type": "execute_result"
    }
   ],
   "source": [
    "df.label.value_counts()"
   ]
  },
  {
   "cell_type": "code",
   "execution_count": 7,
   "id": "28fe4785",
   "metadata": {},
   "outputs": [
    {
     "data": {
      "text/plain": [
       "<AxesSubplot: xlabel='label'>"
      ]
     },
     "execution_count": 7,
     "metadata": {},
     "output_type": "execute_result"
    },
    {
     "data": {
      "image/png": "[encoded data removed]",
      "text/plain": [
       "<Figure size 640x480 with 1 Axes>"
      ]
     },
     "metadata": {},
     "output_type": "display_data"
    }
   ],
   "source": [
    "# classes' barplot\n",
    "df.label.value_counts().plot(kind='bar')"
   ]
  },
  {
   "cell_type": "markdown",
   "id": "4532e724",
   "metadata": {},
   "source": [
    "### Text Augmentation with deep-translator"
   ]
  },
  {
   "cell_type": "code",
   "execution_count": 49,
   "id": "c5159532",
   "metadata": {},
   "outputs": [],
   "source": [
    "aug = TextAugmentation()"
   ]
  },
  {
   "cell_type": "code",
   "execution_count": 9,
   "id": "61000443",
   "metadata": {
    "scrolled": false
   },
   "outputs": [
    {
     "name": "stderr",
     "output_type": "stream",
     "text": [
      "100%|███████████████████████████████████████████| 11/11 [02:02<00:00, 11.16s/it]\n",
      "100%|███████████████████████████████████████████| 11/11 [01:49<00:00,  9.92s/it]\n",
      "100%|███████████████████████████████████████████| 11/11 [01:31<00:00,  8.35s/it]\n",
      "100%|███████████████████████████████████████████| 11/11 [01:10<00:00,  6.39s/it]\n",
      "100%|███████████████████████████████████████████| 11/11 [00:58<00:00,  5.35s/it]\n",
      "100%|███████████████████████████████████████████| 11/11 [00:53<00:00,  4.90s/it]\n",
      "100%|███████████████████████████████████████████| 11/11 [00:29<00:00,  2.71s/it]\n",
      "100%|███████████████████████████████████████████| 11/11 [00:33<00:00,  3.01s/it]\n",
      "100%|███████████████████████████████████████████| 11/11 [00:31<00:00,  2.89s/it]\n",
      "0it [00:00, ?it/s]\n"
     ]
    }
   ],
   "source": [
    "df = aug.tr_df(df, 'Погребение и похоронное дело', 10)"
   ]
  },
  {
   "cell_type": "code",
   "execution_count": 10,
   "id": "0ccfe498",
   "metadata": {},
   "outputs": [
    {
     "name": "stderr",
     "output_type": "stream",
     "text": [
      "100%|███████████████████████████████████████████| 18/18 [03:09<00:00, 10.54s/it]\n",
      "100%|███████████████████████████████████████████| 18/18 [03:26<00:00, 11.49s/it]\n",
      "100%|███████████████████████████████████████████| 18/18 [02:38<00:00,  8.80s/it]\n",
      "100%|███████████████████████████████████████████| 18/18 [02:16<00:00,  7.57s/it]\n",
      "100%|███████████████████████████████████████████| 18/18 [01:24<00:00,  4.71s/it]\n",
      "100%|█████████████████████████████████████████████| 9/9 [00:33<00:00,  3.76s/it]\n"
     ]
    }
   ],
   "source": [
    "df = aug.tr_df(df, 'МФЦ \"Мои документы\"', 6.5)"
   ]
  },
  {
   "cell_type": "code",
   "execution_count": 11,
   "id": "e0d80100",
   "metadata": {},
   "outputs": [
    {
     "name": "stderr",
     "output_type": "stream",
     "text": [
      "100%|███████████████████████████████████████████| 20/20 [03:43<00:00, 11.18s/it]\n",
      "100%|███████████████████████████████████████████| 20/20 [03:21<00:00, 10.09s/it]\n",
      "100%|███████████████████████████████████████████| 20/20 [03:18<00:00,  9.94s/it]\n",
      "100%|███████████████████████████████████████████| 20/20 [02:54<00:00,  8.70s/it]\n",
      "100%|███████████████████████████████████████████| 20/20 [02:06<00:00,  6.34s/it]\n",
      "0it [00:00, ?it/s]\n"
     ]
    }
   ],
   "source": [
    "df = aug.tr_df(df, 'Торговля', 6)"
   ]
  },
  {
   "cell_type": "code",
   "execution_count": 12,
   "id": "84d647a7",
   "metadata": {},
   "outputs": [
    {
     "name": "stderr",
     "output_type": "stream",
     "text": [
      "100%|███████████████████████████████████████████| 23/23 [04:19<00:00, 11.28s/it]\n",
      "100%|███████████████████████████████████████████| 23/23 [03:57<00:00, 10.32s/it]\n",
      "100%|███████████████████████████████████████████| 23/23 [03:25<00:00,  8.93s/it]\n",
      "100%|███████████████████████████████████████████| 23/23 [03:04<00:00,  8.02s/it]\n",
      "100%|█████████████████████████████████████████████| 6/6 [00:38<00:00,  6.49s/it]\n"
     ]
    }
   ],
   "source": [
    "df = aug.tr_df(df, 'Роспотребнадзор', 5.3)"
   ]
  },
  {
   "cell_type": "code",
   "execution_count": 13,
   "id": "4e72b415",
   "metadata": {},
   "outputs": [
    {
     "name": "stderr",
     "output_type": "stream",
     "text": [
      "100%|███████████████████████████████████████████| 25/25 [04:15<00:00, 10.23s/it]\n",
      "100%|███████████████████████████████████████████| 25/25 [03:33<00:00,  8.54s/it]\n",
      "100%|███████████████████████████████████████████| 25/25 [03:33<00:00,  8.53s/it]\n",
      "0it [00:00, ?it/s]\n"
     ]
    }
   ],
   "source": [
    "df = aug.tr_df(df, 'Экология', 4)"
   ]
  },
  {
   "cell_type": "code",
   "execution_count": 14,
   "id": "e2b8043c",
   "metadata": {},
   "outputs": [
    {
     "name": "stderr",
     "output_type": "stream",
     "text": [
      "100%|███████████████████████████████████████████| 23/23 [04:12<00:00, 10.99s/it]\n",
      "100%|███████████████████████████████████████████| 23/23 [04:05<00:00, 10.66s/it]\n",
      "100%|███████████████████████████████████████████| 23/23 [03:28<00:00,  9.05s/it]\n",
      "100%|███████████████████████████████████████████| 23/23 [03:10<00:00,  8.26s/it]\n",
      "100%|█████████████████████████████████████████████| 6/6 [00:34<00:00,  5.69s/it]\n"
     ]
    }
   ],
   "source": [
    "df = aug.tr_df(df, 'Памятники и объекты культурного наследия', 5.3)"
   ]
  },
  {
   "cell_type": "code",
   "execution_count": 15,
   "id": "cae1ad08",
   "metadata": {},
   "outputs": [
    {
     "name": "stderr",
     "output_type": "stream",
     "text": [
      "100%|███████████████████████████████████████████| 22/22 [03:34<00:00,  9.76s/it]\n",
      "100%|███████████████████████████████████████████| 22/22 [03:19<00:00,  9.08s/it]\n",
      "100%|███████████████████████████████████████████| 22/22 [02:44<00:00,  7.48s/it]\n",
      "100%|███████████████████████████████████████████| 22/22 [02:15<00:00,  6.17s/it]\n",
      "100%|█████████████████████████████████████████████| 6/6 [00:31<00:00,  5.32s/it]\n"
     ]
    }
   ],
   "source": [
    "df = aug.tr_df(df, 'Государственная собственность', 5.3)"
   ]
  },
  {
   "cell_type": "code",
   "execution_count": 16,
   "id": "0dd0e317",
   "metadata": {},
   "outputs": [
    {
     "name": "stderr",
     "output_type": "stream",
     "text": [
      "100%|███████████████████████████████████████████| 28/28 [05:05<00:00, 10.91s/it]\n",
      "100%|███████████████████████████████████████████| 28/28 [04:56<00:00, 10.60s/it]\n",
      "100%|███████████████████████████████████████████| 28/28 [04:05<00:00,  8.77s/it]\n",
      "100%|█████████████████████████████████████████████| 8/8 [01:02<00:00,  7.82s/it]\n"
     ]
    }
   ],
   "source": [
    "df = aug.tr_df(df, 'Экономика и бизнес', 4.3)"
   ]
  },
  {
   "cell_type": "code",
   "execution_count": 17,
   "id": "c2097665",
   "metadata": {},
   "outputs": [
    {
     "name": "stderr",
     "output_type": "stream",
     "text": [
      "100%|███████████████████████████████████████████| 37/37 [06:21<00:00, 10.32s/it]\n",
      "100%|███████████████████████████████████████████| 18/18 [02:48<00:00,  9.37s/it]\n"
     ]
    }
   ],
   "source": [
    "df = aug.tr_df(df, 'Электроснабжение', 2.5)"
   ]
  },
  {
   "cell_type": "code",
   "execution_count": 18,
   "id": "28c6aaf1",
   "metadata": {},
   "outputs": [
    {
     "name": "stderr",
     "output_type": "stream",
     "text": [
      "100%|███████████████████████████████████████████| 81/81 [13:56<00:00, 10.32s/it]\n",
      "100%|███████████████████████████████████████████| 16/16 [02:20<00:00,  8.80s/it]\n"
     ]
    }
   ],
   "source": [
    "df = aug.tr_df(df, 'Газ и топливо', 2.2)"
   ]
  },
  {
   "cell_type": "code",
   "execution_count": 50,
   "id": "ef4f0b7d",
   "metadata": {},
   "outputs": [
    {
     "name": "stderr",
     "output_type": "stream",
     "text": [
      "100%|███████████████████████████████████████████| 81/81 [10:44<00:00,  7.96s/it]\n",
      "100%|███████████████████████████████████████████| 16/16 [02:13<00:00,  8.33s/it]\n"
     ]
    }
   ],
   "source": [
    "df = aug.tr_df(df, 'Спецпроекты', 2.2)"
   ]
  },
  {
   "cell_type": "code",
   "execution_count": 51,
   "id": "f6d87d98",
   "metadata": {
    "scrolled": false
   },
   "outputs": [
    {
     "data": {
      "text/html": [
       "<div>\n",
       "<style scoped>\n",
       "    .dataframe tbody tr th:only-of-type {\n",
       "        vertical-align: middle;\n",
       "    }\n",
       "\n",
       "    .dataframe tbody tr th {\n",
       "        vertical-align: top;\n",
       "    }\n",
       "\n",
       "    .dataframe thead th {\n",
       "        text-align: right;\n",
       "    }\n",
       "</style>\n",
       "<table border=\"1\" class=\"dataframe\">\n",
       "  <thead>\n",
       "    <tr style=\"text-align: right;\">\n",
       "      <th></th>\n",
       "      <th>Исполнитель</th>\n",
       "      <th>label</th>\n",
       "      <th>text</th>\n",
       "      <th>Тема</th>\n",
       "    </tr>\n",
       "  </thead>\n",
       "  <tbody>\n",
       "    <tr>\n",
       "      <th>0</th>\n",
       "      <td>Лысьвенский городской округ</td>\n",
       "      <td>Благоустройство</td>\n",
       "      <td>Добрый день. Сегодня,.., моя мать шла по улице...</td>\n",
       "      <td>★ Ямы во дворах</td>\n",
       "    </tr>\n",
       "    <tr>\n",
       "      <th>1</th>\n",
       "      <td>Министерство социального развития ПК</td>\n",
       "      <td>Социальное обслуживание и защита</td>\n",
       "      <td>Пермь г,. В Перми с ноября года не работает со...</td>\n",
       "      <td>Оказание гос. соц. помощи</td>\n",
       "    </tr>\n",
       "    <tr>\n",
       "      <th>2</th>\n",
       "      <td>Министерство социального развития ПК</td>\n",
       "      <td>Социальное обслуживание и защита</td>\n",
       "      <td>Добрый день! Скажите пожалуйста если подавала ...</td>\n",
       "      <td>Дети и многодетные семьи</td>\n",
       "    </tr>\n",
       "    <tr>\n",
       "      <th>3</th>\n",
       "      <td>Город Пермь</td>\n",
       "      <td>Общественный транспорт</td>\n",
       "      <td>Каждая из них не о чем. Люди на остановках хот...</td>\n",
       "      <td>Содержание остановок</td>\n",
       "    </tr>\n",
       "    <tr>\n",
       "      <th>4</th>\n",
       "      <td>Министерство здравоохранения</td>\n",
       "      <td>Здравоохранение/Медицина</td>\n",
       "      <td>В Березниках у сына принятого откоронавируса з...</td>\n",
       "      <td>Технические проблемы с записью на прием к врачу</td>\n",
       "    </tr>\n",
       "    <tr>\n",
       "      <th>...</th>\n",
       "      <td>...</td>\n",
       "      <td>...</td>\n",
       "      <td>...</td>\n",
       "      <td>...</td>\n",
       "    </tr>\n",
       "    <tr>\n",
       "      <th>23779</th>\n",
       "      <td>NaN</td>\n",
       "      <td>Спецпроекты</td>\n",
       "      <td>Мир вам. Что значит побег? Почему вам следует ...</td>\n",
       "      <td>NaN</td>\n",
       "    </tr>\n",
       "    <tr>\n",
       "      <th>23780</th>\n",
       "      <td>NaN</td>\n",
       "      <td>Спецпроекты</td>\n",
       "      <td>город Пермь. Спокойной ночи. Шум в этом году н...</td>\n",
       "      <td>NaN</td>\n",
       "    </tr>\n",
       "    <tr>\n",
       "      <th>23781</th>\n",
       "      <td>NaN</td>\n",
       "      <td>Спецпроекты</td>\n",
       "      <td></td>\n",
       "      <td>NaN</td>\n",
       "    </tr>\n",
       "    <tr>\n",
       "      <th>23782</th>\n",
       "      <td>NaN</td>\n",
       "      <td>Спецпроекты</td>\n",
       "      <td>город Пермь. Куда писать негативные отзывы о б...</td>\n",
       "      <td>NaN</td>\n",
       "    </tr>\n",
       "    <tr>\n",
       "      <th>23783</th>\n",
       "      <td>NaN</td>\n",
       "      <td>Спецпроекты</td>\n",
       "      <td>Добро пожаловать! Можете ли вы добавить еще од...</td>\n",
       "      <td>NaN</td>\n",
       "    </tr>\n",
       "  </tbody>\n",
       "</table>\n",
       "<p>23784 rows × 4 columns</p>\n",
       "</div>"
      ],
      "text/plain": [
       "                                Исполнитель                             label  \\\n",
       "0               Лысьвенский городской округ                   Благоустройство   \n",
       "1      Министерство социального развития ПК  Социальное обслуживание и защита   \n",
       "2      Министерство социального развития ПК  Социальное обслуживание и защита   \n",
       "3                               Город Пермь            Общественный транспорт   \n",
       "4              Министерство здравоохранения          Здравоохранение/Медицина   \n",
       "...                                     ...                               ...   \n",
       "23779                                   NaN                       Спецпроекты   \n",
       "23780                                   NaN                       Спецпроекты   \n",
       "23781                                   NaN                       Спецпроекты   \n",
       "23782                                   NaN                       Спецпроекты   \n",
       "23783                                   NaN                       Спецпроекты   \n",
       "\n",
       "                                                    text  \\\n",
       "0      Добрый день. Сегодня,.., моя мать шла по улице...   \n",
       "1      Пермь г,. В Перми с ноября года не работает со...   \n",
       "2      Добрый день! Скажите пожалуйста если подавала ...   \n",
       "3      Каждая из них не о чем. Люди на остановках хот...   \n",
       "4      В Березниках у сына принятого откоронавируса з...   \n",
       "...                                                  ...   \n",
       "23779  Мир вам. Что значит побег? Почему вам следует ...   \n",
       "23780  город Пермь. Спокойной ночи. Шум в этом году н...   \n",
       "23781                                                      \n",
       "23782  город Пермь. Куда писать негативные отзывы о б...   \n",
       "23783  Добро пожаловать! Можете ли вы добавить еще од...   \n",
       "\n",
       "                                                  Тема  \n",
       "0                                      ★ Ямы во дворах  \n",
       "1                            Оказание гос. соц. помощи  \n",
       "2                             Дети и многодетные семьи  \n",
       "3                                 Содержание остановок  \n",
       "4      Технические проблемы с записью на прием к врачу  \n",
       "...                                                ...  \n",
       "23779                                              NaN  \n",
       "23780                                              NaN  \n",
       "23781                                              NaN  \n",
       "23782                                              NaN  \n",
       "23783                                              NaN  \n",
       "\n",
       "[23784 rows x 4 columns]"
      ]
     },
     "execution_count": 51,
     "metadata": {},
     "output_type": "execute_result"
    }
   ],
   "source": [
    "# aug result\n",
    "df"
   ]
  },
  {
   "cell_type": "code",
   "execution_count": 52,
   "id": "e488c534",
   "metadata": {
    "scrolled": false
   },
   "outputs": [
    {
     "data": {
      "text/plain": [
       "label\n",
       "Здравоохранение/Медицина                    4625\n",
       "Социальное обслуживание и защита            4550\n",
       "Дороги                                      3078\n",
       "ЖКХ                                         2664\n",
       "Благоустройство                             2482\n",
       "Мусор/Свалки/ТКО                            1701\n",
       "Общественный транспорт                       862\n",
       "Коронавирус                                  808\n",
       "Образование                                  693\n",
       "Безопасность                                 292\n",
       "Связь и телевидение                          229\n",
       "Газ и топливо                                178\n",
       "Спецпроекты                                  178\n",
       "Мобилизация                                  130\n",
       "Памятники и объекты культурного наследия     121\n",
       "Роспотребнадзор                              121\n",
       "Экономика и бизнес                           120\n",
       "Физическая культура и спорт                  120\n",
       "Торговля                                     120\n",
       "МФЦ \"Мои документы\"                          117\n",
       "Государственная собственность                116\n",
       "Погребение и похоронное дело                 110\n",
       "Строительство и архитектура                  109\n",
       "Экология                                     100\n",
       "Электроснабжение                              92\n",
       "Культура                                      68\n",
       "Name: count, dtype: int64"
      ]
     },
     "execution_count": 52,
     "metadata": {},
     "output_type": "execute_result"
    }
   ],
   "source": [
    "# aug classes' distribution\n",
    "df.label.value_counts()"
   ]
  },
  {
   "cell_type": "markdown",
   "id": "48360c47",
   "metadata": {},
   "source": [
    "### Matching 'Тема' aug data with 'Тема' original data"
   ]
  },
  {
   "cell_type": "code",
   "execution_count": 53,
   "id": "c1336810",
   "metadata": {},
   "outputs": [
    {
     "data": {
      "text/plain": [
       "<AxesSubplot: xlabel='label'>"
      ]
     },
     "execution_count": 53,
     "metadata": {},
     "output_type": "execute_result"
    },
    {
     "data": {
      "image/png": "[encoded data removed]",
      "text/plain": [
       "<Figure size 640x480 with 1 Axes>"
      ]
     },
     "metadata": {},
     "output_type": "display_data"
    }
   ],
   "source": [
    "# new classes' barplot\n",
    "df.label.value_counts().plot(kind='bar')"
   ]
  },
  {
   "cell_type": "code",
   "execution_count": 146,
   "id": "42b0daac",
   "metadata": {
    "scrolled": true
   },
   "outputs": [
    {
     "data": {
      "text/html": [
       "<div>\n",
       "<style scoped>\n",
       "    .dataframe tbody tr th:only-of-type {\n",
       "        vertical-align: middle;\n",
       "    }\n",
       "\n",
       "    .dataframe tbody tr th {\n",
       "        vertical-align: top;\n",
       "    }\n",
       "\n",
       "    .dataframe thead th {\n",
       "        text-align: right;\n",
       "    }\n",
       "</style>\n",
       "<table border=\"1\" class=\"dataframe\">\n",
       "  <thead>\n",
       "    <tr style=\"text-align: right;\">\n",
       "      <th></th>\n",
       "      <th>Исполнитель</th>\n",
       "      <th>label</th>\n",
       "      <th>text</th>\n",
       "      <th>Тема</th>\n",
       "    </tr>\n",
       "  </thead>\n",
       "  <tbody>\n",
       "    <tr>\n",
       "      <th>0</th>\n",
       "      <td>NaN</td>\n",
       "      <td>Погребение и похоронное дело</td>\n",
       "      <td>Мусоросжигательный завод строится! Кладбище бо...</td>\n",
       "      <td>NaN</td>\n",
       "    </tr>\n",
       "    <tr>\n",
       "      <th>1</th>\n",
       "      <td>NaN</td>\n",
       "      <td>Погребение и похоронное дело</td>\n",
       "      <td>Хочу добавить к посту, почему больницы не сооб...</td>\n",
       "      <td>NaN</td>\n",
       "    </tr>\n",
       "    <tr>\n",
       "      <th>2</th>\n",
       "      <td>NaN</td>\n",
       "      <td>Погребение и похоронное дело</td>\n",
       "      <td>В нашей Красновишерской скорой помощи при звон...</td>\n",
       "      <td>NaN</td>\n",
       "    </tr>\n",
       "  </tbody>\n",
       "</table>\n",
       "</div>"
      ],
      "text/plain": [
       "  Исполнитель                         label  \\\n",
       "0         NaN  Погребение и похоронное дело   \n",
       "1         NaN  Погребение и похоронное дело   \n",
       "2         NaN  Погребение и похоронное дело   \n",
       "\n",
       "                                                text Тема  \n",
       "0  Мусоросжигательный завод строится! Кладбище бо...  NaN  \n",
       "1  Хочу добавить к посту, почему больницы не сооб...  NaN  \n",
       "2  В нашей Красновишерской скорой помощи при звон...  NaN  "
      ]
     },
     "execution_count": 146,
     "metadata": {},
     "output_type": "execute_result"
    }
   ],
   "source": [
    "augmented_df = df[df.isnull()['Тема'] == True].reset_index(drop=True)\n",
    "augmented_df.head(3)"
   ]
  },
  {
   "cell_type": "code",
   "execution_count": 147,
   "id": "99a3d655",
   "metadata": {
    "scrolled": true
   },
   "outputs": [
    {
     "data": {
      "text/html": [
       "<div>\n",
       "<style scoped>\n",
       "    .dataframe tbody tr th:only-of-type {\n",
       "        vertical-align: middle;\n",
       "    }\n",
       "\n",
       "    .dataframe tbody tr th {\n",
       "        vertical-align: top;\n",
       "    }\n",
       "\n",
       "    .dataframe thead th {\n",
       "        text-align: right;\n",
       "    }\n",
       "</style>\n",
       "<table border=\"1\" class=\"dataframe\">\n",
       "  <thead>\n",
       "    <tr style=\"text-align: right;\">\n",
       "      <th></th>\n",
       "      <th>Исполнитель</th>\n",
       "      <th>Группа тем</th>\n",
       "      <th>Текст инцидента</th>\n",
       "      <th>Тема</th>\n",
       "    </tr>\n",
       "  </thead>\n",
       "  <tbody>\n",
       "    <tr>\n",
       "      <th>0</th>\n",
       "      <td>Лысьвенский городской округ</td>\n",
       "      <td>Благоустройство</td>\n",
       "      <td>Добрый день. Сегодня,.., моя мать шла по улице...</td>\n",
       "      <td>★ Ямы во дворах</td>\n",
       "    </tr>\n",
       "    <tr>\n",
       "      <th>1</th>\n",
       "      <td>Министерство социального развития ПК</td>\n",
       "      <td>Социальное обслуживание и защита</td>\n",
       "      <td>Пермь г,. В Перми с ноября года не работает со...</td>\n",
       "      <td>Оказание гос. соц. помощи</td>\n",
       "    </tr>\n",
       "    <tr>\n",
       "      <th>2</th>\n",
       "      <td>Министерство социального развития ПК</td>\n",
       "      <td>Социальное обслуживание и защита</td>\n",
       "      <td>Добрый день! Скажите пожалуйста если подавала ...</td>\n",
       "      <td>Дети и многодетные семьи</td>\n",
       "    </tr>\n",
       "  </tbody>\n",
       "</table>\n",
       "</div>"
      ],
      "text/plain": [
       "                            Исполнитель                        Группа тем  \\\n",
       "0           Лысьвенский городской округ                   Благоустройство   \n",
       "1  Министерство социального развития ПК  Социальное обслуживание и защита   \n",
       "2  Министерство социального развития ПК  Социальное обслуживание и защита   \n",
       "\n",
       "                                     Текст инцидента  \\\n",
       "0  Добрый день. Сегодня,.., моя мать шла по улице...   \n",
       "1  Пермь г,. В Перми с ноября года не работает со...   \n",
       "2  Добрый день! Скажите пожалуйста если подавала ...   \n",
       "\n",
       "                        Тема  \n",
       "0            ★ Ямы во дворах  \n",
       "1  Оказание гос. соц. помощи  \n",
       "2   Дети и многодетные семьи  "
      ]
     },
     "execution_count": 147,
     "metadata": {},
     "output_type": "execute_result"
    }
   ],
   "source": [
    "df_orig = pd.read_csv('preprocessed.csv', sep=';')\n",
    "df_orig.head(3)"
   ]
  },
  {
   "cell_type": "code",
   "execution_count": 148,
   "id": "2c9e629c",
   "metadata": {},
   "outputs": [],
   "source": [
    "# returning labels 'Тема' to aug data\n",
    "# it's an adaption of method TextAugmentation.tr_df()\n",
    "def return_small_label(df, label, mult):\n",
    "    result = []\n",
    "    num_rows = df[df['Группа тем'] == label].shape[0]\n",
    "    \n",
    "    for i in range(int(mult-1)):\n",
    "        small_labels = df[df['Группа тем'] == label]['Тема']\n",
    "        result.append(small_labels)\n",
    "        \n",
    "    small_labels = df[df['Группа тем'] == label].iloc[:int(mult%1*num_rows)]['Тема']\n",
    "    result.append(small_labels)\n",
    "    \n",
    "    return pd.concat(result, ignore_index=True)"
   ]
  },
  {
   "cell_type": "code",
   "execution_count": 149,
   "id": "415d675f",
   "metadata": {
    "scrolled": true
   },
   "outputs": [],
   "source": [
    "aug_classes = {'Погребение и похоронное дело': 10, \n",
    "               'МФЦ \"Мои документы\"': 6.5,\n",
    "               'Торговля': 6, \n",
    "               'Роспотребнадзор': 5.3, \n",
    "               'Экология': 4, \n",
    "               'Памятники и объекты культурного наследия': 5.3, \n",
    "               'Государственная собственность': 5.3, \n",
    "               'Экономика и бизнес': 4.3, \n",
    "               'Электроснабжение': 2.5, \n",
    "               'Газ и топливо': 2.2, \n",
    "               'Спецпроекты': 2.2}"
   ]
  },
  {
   "cell_type": "code",
   "execution_count": 150,
   "id": "885fa801",
   "metadata": {},
   "outputs": [],
   "source": [
    "# returning labels 'Тема' to aug data\n",
    "\n",
    "res = []\n",
    "for label, mult in aug_classes.items():\n",
    "    res.append(return_small_label(df_orig, label, mult))"
   ]
  },
  {
   "cell_type": "code",
   "execution_count": 151,
   "id": "a4191b07",
   "metadata": {},
   "outputs": [
    {
     "data": {
      "text/plain": [
       "(1004,)"
      ]
     },
     "execution_count": 151,
     "metadata": {},
     "output_type": "execute_result"
    }
   ],
   "source": [
    "aug_labels = pd.concat(res, ignore_index=True)\n",
    "aug_labels.shape"
   ]
  },
  {
   "cell_type": "code",
   "execution_count": 152,
   "id": "9bcb6c0b",
   "metadata": {
    "scrolled": true
   },
   "outputs": [
    {
     "data": {
      "text/plain": [
       "(1004,)"
      ]
     },
     "execution_count": 152,
     "metadata": {},
     "output_type": "execute_result"
    }
   ],
   "source": [
    "augmented_df.label.shape"
   ]
  },
  {
   "cell_type": "code",
   "execution_count": 153,
   "id": "aac34acd",
   "metadata": {},
   "outputs": [],
   "source": [
    "# renaming df\n",
    "augmented_df['Тема'] = aug_labels\n",
    "augmented_df = augmented_df[['text', 'label', 'Тема']]\n",
    "augmented_df.columns = ['text', 'big_labels', 'smol_labels']"
   ]
  },
  {
   "cell_type": "code",
   "execution_count": 154,
   "id": "5a36c92c",
   "metadata": {},
   "outputs": [
    {
     "data": {
      "text/html": [
       "<div>\n",
       "<style scoped>\n",
       "    .dataframe tbody tr th:only-of-type {\n",
       "        vertical-align: middle;\n",
       "    }\n",
       "\n",
       "    .dataframe tbody tr th {\n",
       "        vertical-align: top;\n",
       "    }\n",
       "\n",
       "    .dataframe thead th {\n",
       "        text-align: right;\n",
       "    }\n",
       "</style>\n",
       "<table border=\"1\" class=\"dataframe\">\n",
       "  <thead>\n",
       "    <tr style=\"text-align: right;\">\n",
       "      <th></th>\n",
       "      <th>text</th>\n",
       "      <th>big_labels</th>\n",
       "      <th>smol_labels</th>\n",
       "    </tr>\n",
       "  </thead>\n",
       "  <tbody>\n",
       "    <tr>\n",
       "      <th>0</th>\n",
       "      <td>Мусоросжигательный завод строится! Кладбище бо...</td>\n",
       "      <td>Погребение и похоронное дело</td>\n",
       "      <td>Погребение и похоронное дело</td>\n",
       "    </tr>\n",
       "    <tr>\n",
       "      <th>1</th>\n",
       "      <td>Хочу добавить к посту, почему больницы не сооб...</td>\n",
       "      <td>Погребение и похоронное дело</td>\n",
       "      <td>Погребение и похоронное дело</td>\n",
       "    </tr>\n",
       "    <tr>\n",
       "      <th>2</th>\n",
       "      <td>В нашей Красновишерской скорой помощи при звон...</td>\n",
       "      <td>Погребение и похоронное дело</td>\n",
       "      <td>Погребение и похоронное дело</td>\n",
       "    </tr>\n",
       "    <tr>\n",
       "      <th>3</th>\n",
       "      <td>В Кудимкале похоронные компании платят налоги ...</td>\n",
       "      <td>Погребение и похоронное дело</td>\n",
       "      <td>Погребение и похоронное дело</td>\n",
       "    </tr>\n",
       "    <tr>\n",
       "      <th>4</th>\n",
       "      <td>Крематории, безусловно, нужны. Посмотрите коли...</td>\n",
       "      <td>Погребение и похоронное дело</td>\n",
       "      <td>Погребение и похоронное дело</td>\n",
       "    </tr>\n",
       "    <tr>\n",
       "      <th>...</th>\n",
       "      <td>...</td>\n",
       "      <td>...</td>\n",
       "      <td>...</td>\n",
       "    </tr>\n",
       "    <tr>\n",
       "      <th>999</th>\n",
       "      <td>Мир вам. Что значит побег? Почему вам следует ...</td>\n",
       "      <td>Спецпроекты</td>\n",
       "      <td>Спецпроекты</td>\n",
       "    </tr>\n",
       "    <tr>\n",
       "      <th>1000</th>\n",
       "      <td>город Пермь. Спокойной ночи. Шум в этом году н...</td>\n",
       "      <td>Спецпроекты</td>\n",
       "      <td>Спецпроекты</td>\n",
       "    </tr>\n",
       "    <tr>\n",
       "      <th>1001</th>\n",
       "      <td></td>\n",
       "      <td>Спецпроекты</td>\n",
       "      <td>Спецпроекты</td>\n",
       "    </tr>\n",
       "    <tr>\n",
       "      <th>1002</th>\n",
       "      <td>город Пермь. Куда писать негативные отзывы о б...</td>\n",
       "      <td>Спецпроекты</td>\n",
       "      <td>Спецпроекты</td>\n",
       "    </tr>\n",
       "    <tr>\n",
       "      <th>1003</th>\n",
       "      <td>Добро пожаловать! Можете ли вы добавить еще од...</td>\n",
       "      <td>Спецпроекты</td>\n",
       "      <td>Спецпроекты</td>\n",
       "    </tr>\n",
       "  </tbody>\n",
       "</table>\n",
       "<p>1004 rows × 3 columns</p>\n",
       "</div>"
      ],
      "text/plain": [
       "                                                   text  \\\n",
       "0     Мусоросжигательный завод строится! Кладбище бо...   \n",
       "1     Хочу добавить к посту, почему больницы не сооб...   \n",
       "2     В нашей Красновишерской скорой помощи при звон...   \n",
       "3     В Кудимкале похоронные компании платят налоги ...   \n",
       "4     Крематории, безусловно, нужны. Посмотрите коли...   \n",
       "...                                                 ...   \n",
       "999   Мир вам. Что значит побег? Почему вам следует ...   \n",
       "1000  город Пермь. Спокойной ночи. Шум в этом году н...   \n",
       "1001                                                      \n",
       "1002  город Пермь. Куда писать негативные отзывы о б...   \n",
       "1003  Добро пожаловать! Можете ли вы добавить еще од...   \n",
       "\n",
       "                        big_labels                   smol_labels  \n",
       "0     Погребение и похоронное дело  Погребение и похоронное дело  \n",
       "1     Погребение и похоронное дело  Погребение и похоронное дело  \n",
       "2     Погребение и похоронное дело  Погребение и похоронное дело  \n",
       "3     Погребение и похоронное дело  Погребение и похоронное дело  \n",
       "4     Погребение и похоронное дело  Погребение и похоронное дело  \n",
       "...                            ...                           ...  \n",
       "999                    Спецпроекты                   Спецпроекты  \n",
       "1000                   Спецпроекты                   Спецпроекты  \n",
       "1001                   Спецпроекты                   Спецпроекты  \n",
       "1002                   Спецпроекты                   Спецпроекты  \n",
       "1003                   Спецпроекты                   Спецпроекты  \n",
       "\n",
       "[1004 rows x 3 columns]"
      ]
     },
     "execution_count": 154,
     "metadata": {},
     "output_type": "execute_result"
    }
   ],
   "source": [
    "augmented_df"
   ]
  },
  {
   "cell_type": "code",
   "execution_count": 155,
   "id": "8bcddc60",
   "metadata": {},
   "outputs": [],
   "source": [
    "# deleting trash \n",
    "augmented_df.text = augmented_df.text.apply(lambda x: None if len(x) <= 3 else x)"
   ]
  },
  {
   "cell_type": "code",
   "execution_count": 158,
   "id": "4044693f",
   "metadata": {
    "scrolled": true
   },
   "outputs": [
    {
     "data": {
      "text/html": [
       "<div>\n",
       "<style scoped>\n",
       "    .dataframe tbody tr th:only-of-type {\n",
       "        vertical-align: middle;\n",
       "    }\n",
       "\n",
       "    .dataframe tbody tr th {\n",
       "        vertical-align: top;\n",
       "    }\n",
       "\n",
       "    .dataframe thead th {\n",
       "        text-align: right;\n",
       "    }\n",
       "</style>\n",
       "<table border=\"1\" class=\"dataframe\">\n",
       "  <thead>\n",
       "    <tr style=\"text-align: right;\">\n",
       "      <th></th>\n",
       "      <th>text</th>\n",
       "      <th>big_labels</th>\n",
       "      <th>smol_labels</th>\n",
       "    </tr>\n",
       "  </thead>\n",
       "  <tbody>\n",
       "    <tr>\n",
       "      <th>0</th>\n",
       "      <td>Мусоросжигательный завод строится! Кладбище бо...</td>\n",
       "      <td>Погребение и похоронное дело</td>\n",
       "      <td>Погребение и похоронное дело</td>\n",
       "    </tr>\n",
       "    <tr>\n",
       "      <th>1</th>\n",
       "      <td>Хочу добавить к посту, почему больницы не сооб...</td>\n",
       "      <td>Погребение и похоронное дело</td>\n",
       "      <td>Погребение и похоронное дело</td>\n",
       "    </tr>\n",
       "    <tr>\n",
       "      <th>2</th>\n",
       "      <td>В нашей Красновишерской скорой помощи при звон...</td>\n",
       "      <td>Погребение и похоронное дело</td>\n",
       "      <td>Погребение и похоронное дело</td>\n",
       "    </tr>\n",
       "    <tr>\n",
       "      <th>3</th>\n",
       "      <td>В Кудимкале похоронные компании платят налоги ...</td>\n",
       "      <td>Погребение и похоронное дело</td>\n",
       "      <td>Погребение и похоронное дело</td>\n",
       "    </tr>\n",
       "    <tr>\n",
       "      <th>4</th>\n",
       "      <td>Крематории, безусловно, нужны. Посмотрите коли...</td>\n",
       "      <td>Погребение и похоронное дело</td>\n",
       "      <td>Погребение и похоронное дело</td>\n",
       "    </tr>\n",
       "    <tr>\n",
       "      <th>...</th>\n",
       "      <td>...</td>\n",
       "      <td>...</td>\n",
       "      <td>...</td>\n",
       "    </tr>\n",
       "    <tr>\n",
       "      <th>998</th>\n",
       "      <td>город Пермь. Добрый вечер, адрес: ул. Водонагр...</td>\n",
       "      <td>Спецпроекты</td>\n",
       "      <td>Спецпроекты</td>\n",
       "    </tr>\n",
       "    <tr>\n",
       "      <th>999</th>\n",
       "      <td>Мир вам. Что значит побег? Почему вам следует ...</td>\n",
       "      <td>Спецпроекты</td>\n",
       "      <td>Спецпроекты</td>\n",
       "    </tr>\n",
       "    <tr>\n",
       "      <th>1000</th>\n",
       "      <td>город Пермь. Спокойной ночи. Шум в этом году н...</td>\n",
       "      <td>Спецпроекты</td>\n",
       "      <td>Спецпроекты</td>\n",
       "    </tr>\n",
       "    <tr>\n",
       "      <th>1002</th>\n",
       "      <td>город Пермь. Куда писать негативные отзывы о б...</td>\n",
       "      <td>Спецпроекты</td>\n",
       "      <td>Спецпроекты</td>\n",
       "    </tr>\n",
       "    <tr>\n",
       "      <th>1003</th>\n",
       "      <td>Добро пожаловать! Можете ли вы добавить еще од...</td>\n",
       "      <td>Спецпроекты</td>\n",
       "      <td>Спецпроекты</td>\n",
       "    </tr>\n",
       "  </tbody>\n",
       "</table>\n",
       "<p>1002 rows × 3 columns</p>\n",
       "</div>"
      ],
      "text/plain": [
       "                                                   text  \\\n",
       "0     Мусоросжигательный завод строится! Кладбище бо...   \n",
       "1     Хочу добавить к посту, почему больницы не сооб...   \n",
       "2     В нашей Красновишерской скорой помощи при звон...   \n",
       "3     В Кудимкале похоронные компании платят налоги ...   \n",
       "4     Крематории, безусловно, нужны. Посмотрите коли...   \n",
       "...                                                 ...   \n",
       "998   город Пермь. Добрый вечер, адрес: ул. Водонагр...   \n",
       "999   Мир вам. Что значит побег? Почему вам следует ...   \n",
       "1000  город Пермь. Спокойной ночи. Шум в этом году н...   \n",
       "1002  город Пермь. Куда писать негативные отзывы о б...   \n",
       "1003  Добро пожаловать! Можете ли вы добавить еще од...   \n",
       "\n",
       "                        big_labels                   smol_labels  \n",
       "0     Погребение и похоронное дело  Погребение и похоронное дело  \n",
       "1     Погребение и похоронное дело  Погребение и похоронное дело  \n",
       "2     Погребение и похоронное дело  Погребение и похоронное дело  \n",
       "3     Погребение и похоронное дело  Погребение и похоронное дело  \n",
       "4     Погребение и похоронное дело  Погребение и похоронное дело  \n",
       "...                            ...                           ...  \n",
       "998                    Спецпроекты                   Спецпроекты  \n",
       "999                    Спецпроекты                   Спецпроекты  \n",
       "1000                   Спецпроекты                   Спецпроекты  \n",
       "1002                   Спецпроекты                   Спецпроекты  \n",
       "1003                   Спецпроекты                   Спецпроекты  \n",
       "\n",
       "[1002 rows x 3 columns]"
      ]
     },
     "execution_count": 158,
     "metadata": {},
     "output_type": "execute_result"
    }
   ],
   "source": [
    "augmented_df = augmented_df.dropna()\n",
    "augmented_df"
   ]
  },
  {
   "cell_type": "code",
   "execution_count": 159,
   "id": "c8aaac27",
   "metadata": {},
   "outputs": [],
   "source": [
    "# saving\n",
    "augmented_df.to_csv('augmented_translator.csv', index=False)"
   ]
  },
  {
   "cell_type": "code",
   "execution_count": null,
   "id": "ab17c386",
   "metadata": {},
   "outputs": [],
   "source": []
  }
 ],
 "metadata": {
  "kernelspec": {
   "display_name": "deep-learning-env",
   "language": "python",
   "name": "deep-learning-env"
  },
  "language_info": {
   "codemirror_mode": {
    "name": "ipython",
    "version": 3
   },
   "file_extension": ".py",
   "mimetype": "text/x-python",
   "name": "python",
   "nbconvert_exporter": "python",
   "pygments_lexer": "ipython3",
   "version": "3.11.5"
  }
 },
 "nbformat": 4,
 "nbformat_minor": 5
}
