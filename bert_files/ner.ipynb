{
 "cells": [
  {
   "cell_type": "code",
   "execution_count": 1,
   "id": "1705ed37-6c02-4911-b40b-e7ea03ee11a2",
   "metadata": {},
   "outputs": [],
   "source": [
    "import pandas as pd"
   ]
  },
  {
   "cell_type": "code",
   "execution_count": 2,
   "id": "27654a0b-ef31-4592-a13a-5411db6c3c94",
   "metadata": {
    "scrolled": true
   },
   "outputs": [
    {
     "data": {
      "text/html": [
       "<div>\n",
       "<style scoped>\n",
       "    .dataframe tbody tr th:only-of-type {\n",
       "        vertical-align: middle;\n",
       "    }\n",
       "\n",
       "    .dataframe tbody tr th {\n",
       "        vertical-align: top;\n",
       "    }\n",
       "\n",
       "    .dataframe thead th {\n",
       "        text-align: right;\n",
       "    }\n",
       "</style>\n",
       "<table border=\"1\" class=\"dataframe\">\n",
       "  <thead>\n",
       "    <tr style=\"text-align: right;\">\n",
       "      <th></th>\n",
       "      <th>Исполнитель</th>\n",
       "      <th>Группа тем</th>\n",
       "      <th>Текст инцидента</th>\n",
       "      <th>Тема</th>\n",
       "    </tr>\n",
       "  </thead>\n",
       "  <tbody>\n",
       "    <tr>\n",
       "      <th>0</th>\n",
       "      <td>Лысьвенский городской округ</td>\n",
       "      <td>Благоустройство</td>\n",
       "      <td>'Добрый день. Сегодня, 20.08.22, моя мать шла ...</td>\n",
       "      <td>★ Ямы во дворах</td>\n",
       "    </tr>\n",
       "    <tr>\n",
       "      <th>1</th>\n",
       "      <td>Министерство социального развития ПК</td>\n",
       "      <td>Социальное обслуживание и защита</td>\n",
       "      <td>'Пермь г, +79194692145. В Перми с ноября 2021 ...</td>\n",
       "      <td>Оказание гос. соц. помощи</td>\n",
       "    </tr>\n",
       "    <tr>\n",
       "      <th>2</th>\n",
       "      <td>Министерство социального развития ПК</td>\n",
       "      <td>Социальное обслуживание и защита</td>\n",
       "      <td>'Добрый день ! Скажите пожалуйста если подовал...</td>\n",
       "      <td>Дети и многодетные семьи</td>\n",
       "    </tr>\n",
       "    <tr>\n",
       "      <th>3</th>\n",
       "      <td>Город Пермь</td>\n",
       "      <td>Общественный транспорт</td>\n",
       "      <td>'Каждая из них не о чем. Люди на остановках хо...</td>\n",
       "      <td>Содержание остановок</td>\n",
       "    </tr>\n",
       "    <tr>\n",
       "      <th>4</th>\n",
       "      <td>Министерство здравоохранения</td>\n",
       "      <td>Здравоохранение/Медицина</td>\n",
       "      <td>'В Березниках у сына привитого откоронавируса ...</td>\n",
       "      <td>Технические проблемы с записью на прием к врачу</td>\n",
       "    </tr>\n",
       "    <tr>\n",
       "      <th>...</th>\n",
       "      <td>...</td>\n",
       "      <td>...</td>\n",
       "      <td>...</td>\n",
       "      <td>...</td>\n",
       "    </tr>\n",
       "    <tr>\n",
       "      <th>23123</th>\n",
       "      <td>Губахинский городской округ</td>\n",
       "      <td>ЖКХ</td>\n",
       "      <td>'Город Гремячинск-— ситуация с теплом на улице...</td>\n",
       "      <td>Ненадлежащее качество или отсутствие отопления</td>\n",
       "    </tr>\n",
       "    <tr>\n",
       "      <th>23124</th>\n",
       "      <td>Министерство здравоохранения</td>\n",
       "      <td>Здравоохранение/Медицина</td>\n",
       "      <td>'Здравствуйте у меня ребёнку 2 месяца , тест н...</td>\n",
       "      <td>Технические проблемы с записью на прием к врачу</td>\n",
       "    </tr>\n",
       "    <tr>\n",
       "      <th>23125</th>\n",
       "      <td>Лысьвенский городской округ</td>\n",
       "      <td>Благоустройство</td>\n",
       "      <td>'А что творится с благоустройством дворов! Воо...</td>\n",
       "      <td>Благоустройство придомовых территорий</td>\n",
       "    </tr>\n",
       "    <tr>\n",
       "      <th>23126</th>\n",
       "      <td>Лысьвенский городской округ</td>\n",
       "      <td>ЖКХ</td>\n",
       "      <td>'Сообщение без текста</td>\n",
       "      <td>Ненадлежащее качество или отсутствие отопления</td>\n",
       "    </tr>\n",
       "    <tr>\n",
       "      <th>23127</th>\n",
       "      <td>Министерство социального развития ПК</td>\n",
       "      <td>Социальное обслуживание и защита</td>\n",
       "      <td>'Здравствуйте, подскажите пожалуйста. Сколько ...</td>\n",
       "      <td>Оказание гос. соц. помощи</td>\n",
       "    </tr>\n",
       "  </tbody>\n",
       "</table>\n",
       "<p>23128 rows × 4 columns</p>\n",
       "</div>"
      ],
      "text/plain": [
       "                                Исполнитель                        Группа тем  \\\n",
       "0               Лысьвенский городской округ                   Благоустройство   \n",
       "1      Министерство социального развития ПК  Социальное обслуживание и защита   \n",
       "2      Министерство социального развития ПК  Социальное обслуживание и защита   \n",
       "3                               Город Пермь            Общественный транспорт   \n",
       "4              Министерство здравоохранения          Здравоохранение/Медицина   \n",
       "...                                     ...                               ...   \n",
       "23123           Губахинский городской округ                               ЖКХ   \n",
       "23124          Министерство здравоохранения          Здравоохранение/Медицина   \n",
       "23125           Лысьвенский городской округ                   Благоустройство   \n",
       "23126           Лысьвенский городской округ                               ЖКХ   \n",
       "23127  Министерство социального развития ПК  Социальное обслуживание и защита   \n",
       "\n",
       "                                         Текст инцидента  \\\n",
       "0      'Добрый день. Сегодня, 20.08.22, моя мать шла ...   \n",
       "1      'Пермь г, +79194692145. В Перми с ноября 2021 ...   \n",
       "2      'Добрый день ! Скажите пожалуйста если подовал...   \n",
       "3      'Каждая из них не о чем. Люди на остановках хо...   \n",
       "4      'В Березниках у сына привитого откоронавируса ...   \n",
       "...                                                  ...   \n",
       "23123  'Город Гремячинск-— ситуация с теплом на улице...   \n",
       "23124  'Здравствуйте у меня ребёнку 2 месяца , тест н...   \n",
       "23125  'А что творится с благоустройством дворов! Воо...   \n",
       "23126                              'Сообщение без текста   \n",
       "23127  'Здравствуйте, подскажите пожалуйста. Сколько ...   \n",
       "\n",
       "                                                  Тема  \n",
       "0                                      ★ Ямы во дворах  \n",
       "1                            Оказание гос. соц. помощи  \n",
       "2                             Дети и многодетные семьи  \n",
       "3                                 Содержание остановок  \n",
       "4      Технические проблемы с записью на прием к врачу  \n",
       "...                                                ...  \n",
       "23123   Ненадлежащее качество или отсутствие отопления  \n",
       "23124  Технические проблемы с записью на прием к врачу  \n",
       "23125            Благоустройство придомовых территорий  \n",
       "23126   Ненадлежащее качество или отсутствие отопления  \n",
       "23127                        Оказание гос. соц. помощи  \n",
       "\n",
       "[23128 rows x 4 columns]"
      ]
     },
     "execution_count": 2,
     "metadata": {},
     "output_type": "execute_result"
    }
   ],
   "source": [
    "df = pd.read_csv(\"train_dataset_train.csv\", sep=';')\n",
    "df"
   ]
  },
  {
   "cell_type": "code",
   "execution_count": 12,
   "id": "f8027cd7-bab7-4c51-9693-5d3f904bb2bb",
   "metadata": {},
   "outputs": [
    {
     "data": {
      "text/plain": [
       "0        'Добрый день. Сегодня, 20.08.22, моя мать шла ...\n",
       "1        'Пермь г, +79194692145. В Перми с ноября 2021 ...\n",
       "2        'Добрый день ! Скажите пожалуйста если подовал...\n",
       "3        'Каждая из них не о чем. Люди на остановках хо...\n",
       "4        'В Березниках у сына привитого откоронавируса ...\n",
       "                               ...                        \n",
       "23122    '[club173907682|Березники официальные], а если...\n",
       "23123    'Город Гремячинск-— ситуация с теплом на улице...\n",
       "23124    'Здравствуйте у меня ребёнку 2 месяца , тест н...\n",
       "23125    'А что творится с благоустройством дворов! Воо...\n",
       "23127    'Здравствуйте, подскажите пожалуйста. Сколько ...\n",
       "Name: Текст инцидента, Length: 22780, dtype: object"
      ]
     },
     "execution_count": 12,
     "metadata": {},
     "output_type": "execute_result"
    }
   ],
   "source": [
    "phrases_to_del = [\"'Сообщение без текста\", \"'Здравствуйте\", \"'\", \"'Да\", \"'Добрый день\", \"'Начать\", \"'Да подтверждаю.\", \"'Да, подтверждаю\", \"'Добрый день!\", \"'Здравствуйте!\"]\n",
    "text_only = df[~df[\"Текст инцидента\"].isin(phrases_to_del)][\"Текст инцидента\"]\n",
    "text_only"
   ]
  },
  {
   "cell_type": "code",
   "execution_count": 13,
   "id": "4cbd3be1-ecf1-4aa7-b74f-6234fcd39254",
   "metadata": {},
   "outputs": [
    {
     "data": {
      "application/vnd.jupyter.widget-view+json": {
       "model_id": "6ce007763bd5438597d7ca8312cfbe86",
       "version_major": 2,
       "version_minor": 0
      },
      "text/plain": [
       "Downloading tokenizer_config.json:   0%|          | 0.00/333 [00:00<?, ?B/s]"
      ]
     },
     "metadata": {},
     "output_type": "display_data"
    },
    {
     "data": {
      "application/vnd.jupyter.widget-view+json": {
       "model_id": "2c221bced7c545988626c6e712fd975a",
       "version_major": 2,
       "version_minor": 0
      },
      "text/plain": [
       "Downloading vocab.txt:   0%|          | 0.00/996k [00:00<?, ?B/s]"
      ]
     },
     "metadata": {},
     "output_type": "display_data"
    },
    {
     "data": {
      "application/vnd.jupyter.widget-view+json": {
       "model_id": "6c061f1bea654288beebab4ec918d74a",
       "version_major": 2,
       "version_minor": 0
      },
      "text/plain": [
       "Downloading tokenizer.json:   0%|          | 0.00/1.96M [00:00<?, ?B/s]"
      ]
     },
     "metadata": {},
     "output_type": "display_data"
    },
    {
     "data": {
      "application/vnd.jupyter.widget-view+json": {
       "model_id": "30fda53af3f74043883a43333805fc66",
       "version_major": 2,
       "version_minor": 0
      },
      "text/plain": [
       "Downloading (…)cial_tokens_map.json:   0%|          | 0.00/112 [00:00<?, ?B/s]"
      ]
     },
     "metadata": {},
     "output_type": "display_data"
    },
    {
     "data": {
      "application/vnd.jupyter.widget-view+json": {
       "model_id": "b57de2a184e7429bb0e9abe5b5eee6bf",
       "version_major": 2,
       "version_minor": 0
      },
      "text/plain": [
       "Downloading config.json:   0%|          | 0.00/1.19k [00:00<?, ?B/s]"
      ]
     },
     "metadata": {},
     "output_type": "display_data"
    },
    {
     "data": {
      "application/vnd.jupyter.widget-view+json": {
       "model_id": "0969bff017b44bcd9ff265d9bb80c670",
       "version_major": 2,
       "version_minor": 0
      },
      "text/plain": [
       "Downloading model.safetensors:   0%|          | 0.00/709M [00:00<?, ?B/s]"
      ]
     },
     "metadata": {},
     "output_type": "display_data"
    },
    {
     "name": "stderr",
     "output_type": "stream",
     "text": [
      "/Users/bellesbae/miniconda3/envs/ml_torch/lib/python3.9/site-packages/transformers/pipelines/token_classification.py:169: UserWarning: `grouped_entities` is deprecated and will be removed in version v5.0.0, defaulted to `aggregation_strategy=\"simple\"` instead.\n",
      "  warnings.warn(\n"
     ]
    },
    {
     "name": "stdout",
     "output_type": "stream",
     "text": [
      "[{'entity_group': 'LOC', 'score': 0.96571505, 'word': 'Улица Стахановская', 'start': 54, 'end': 72}, {'entity_group': 'ORG', 'score': 0.81874347, 'word': 'Квант', 'start': 97, 'end': 102}, {'entity_group': 'ORG', 'score': 0.66468525, 'word': 'УК', 'start': 236, 'end': 238}, {'entity_group': 'ORG', 'score': 0.6659043, 'word': 'УК', 'start': 337, 'end': 339}, {'entity_group': 'ORG', 'score': 0.50989276, 'word': 'Упра', 'start': 689, 'end': 693}, {'entity_group': 'ORG', 'score': 0.4878909, 'word': 'компании', 'start': 701, 'end': 709}]\n"
     ]
    }
   ],
   "source": [
    "from transformers import AutoTokenizer, AutoModelForTokenClassification\n",
    "from transformers import pipeline\n",
    "\n",
    "tokenizer = AutoTokenizer.from_pretrained(\"Babelscape/wikineural-multilingual-ner\")\n",
    "model = AutoModelForTokenClassification.from_pretrained(\"Babelscape/wikineural-multilingual-ner\")\n",
    "\n",
    "nlp = pipeline(\"ner\", model=model, tokenizer=tokenizer, grouped_entities=True)\n",
    "example = \"Добрый вечер, помогите пожалуйста в решении проблемы. Улица Стахановская,49-управляющая компания Квант никак не реагирует на обращения жильцов общежития. Протекает крыша, в секции творится ужас. Течь переходит в комнаты . Представители УК ранее говорили, что ремонт кровли запланирован на 2021, но ремонт так и не был произведён. Сейчас УК утверждает, что ремонт запланирован на 2022 год…. Секция в аварийном состоянии, рядом с подтекающими местами находится проводка, мы просили отправить электрика, но нашу просьбу так же проигнорировали… фото ниже….в заключении еще хочу сказать, что ремонт кровли уже проводился в 2017 году, но течь снова началась уже в 2018 из-за халатного отношения Управляющей компании. Помогите пожалуйста в решении проблемы\"\n",
    "\n",
    "ner_results = nlp(example)\n",
    "print(ner_results)"
   ]
  },
  {
   "cell_type": "code",
   "execution_count": null,
   "id": "1a43627d-2080-4369-928c-505d16505e7a",
   "metadata": {},
   "outputs": [],
   "source": []
  }
 ],
 "metadata": {
  "kernelspec": {
   "display_name": "Python 3 (ipykernel)",
   "language": "python",
   "name": "python3"
  },
  "language_info": {
   "codemirror_mode": {
    "name": "ipython",
    "version": 3
   },
   "file_extension": ".py",
   "mimetype": "text/x-python",
   "name": "python",
   "nbconvert_exporter": "python",
   "pygments_lexer": "ipython3",
   "version": "3.9.18"
  }
 },
 "nbformat": 4,
 "nbformat_minor": 5
}
