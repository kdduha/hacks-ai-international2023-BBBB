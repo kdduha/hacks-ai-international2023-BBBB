{
 "cells": [
  {
   "cell_type": "code",
   "execution_count": 2,
   "id": "c3629583-e3da-4790-b1dd-664ce42b4b91",
   "metadata": {},
   "outputs": [
    {
     "name": "stdout",
     "output_type": "stream",
     "text": [
      "Collecting pyaspeller\n",
      "  Obtaining dependency information for pyaspeller from https://files.pythonhosted.org/packages/9b/5a/30ac754d8a08bbe7560ee6a932267c4961285036a0a92256886c01863b1e/pyaspeller-2.0.0-py3-none-any.whl.metadata\n",
      "  Downloading pyaspeller-2.0.0-py3-none-any.whl.metadata (2.9 kB)\n",
      "Requirement already satisfied: requests<3.0.0,>=2.27.1 in /Users/bellesbae/miniconda3/envs/ml_torch/lib/python3.9/site-packages (from pyaspeller) (2.31.0)\n",
      "Requirement already satisfied: charset-normalizer<4,>=2 in /Users/bellesbae/miniconda3/envs/ml_torch/lib/python3.9/site-packages (from requests<3.0.0,>=2.27.1->pyaspeller) (3.2.0)\n",
      "Requirement already satisfied: idna<4,>=2.5 in /Users/bellesbae/miniconda3/envs/ml_torch/lib/python3.9/site-packages (from requests<3.0.0,>=2.27.1->pyaspeller) (3.4)\n",
      "Requirement already satisfied: urllib3<3,>=1.21.1 in /Users/bellesbae/miniconda3/envs/ml_torch/lib/python3.9/site-packages (from requests<3.0.0,>=2.27.1->pyaspeller) (1.26.15)\n",
      "Requirement already satisfied: certifi>=2017.4.17 in /Users/bellesbae/miniconda3/envs/ml_torch/lib/python3.9/site-packages (from requests<3.0.0,>=2.27.1->pyaspeller) (2023.7.22)\n",
      "Downloading pyaspeller-2.0.0-py3-none-any.whl (12 kB)\n",
      "Installing collected packages: pyaspeller\n",
      "Successfully installed pyaspeller-2.0.0\n"
     ]
    }
   ],
   "source": [
    "!pip install pyaspeller"
   ]
  },
  {
   "cell_type": "code",
   "execution_count": 3,
   "id": "356279dc-0e03-4e06-bc37-06a5486c950f",
   "metadata": {},
   "outputs": [],
   "source": [
    "from pyaspeller import YandexSpeller"
   ]
  },
  {
   "cell_type": "code",
   "execution_count": 7,
   "id": "a3ff0cf3-dd69-4a17-8e99-91eb9e687b34",
   "metadata": {},
   "outputs": [
    {
     "data": {
      "text/plain": [
       "'привет'"
      ]
     },
     "execution_count": 7,
     "metadata": {},
     "output_type": "execute_result"
    }
   ],
   "source": [
    "speller = YandexSpeller()\n",
    "text_spelled = speller.spelled(text)"
   ]
  },
  {
   "cell_type": "code",
   "execution_count": null,
   "id": "d4ddd3f6-d0bc-4b4b-9a92-18fc9cd6b039",
   "metadata": {},
   "outputs": [],
   "source": [
    "def spell_text(text, speller):\n",
    "    return speller.spelled(text)\n",
    "    "
   ]
  }
 ],
 "metadata": {
  "kernelspec": {
   "display_name": "Python 3 (ipykernel)",
   "language": "python",
   "name": "python3"
  },
  "language_info": {
   "codemirror_mode": {
    "name": "ipython",
    "version": 3
   },
   "file_extension": ".py",
   "mimetype": "text/x-python",
   "name": "python",
   "nbconvert_exporter": "python",
   "pygments_lexer": "ipython3",
   "version": "3.9.18"
  }
 },
 "nbformat": 4,
 "nbformat_minor": 5
}
