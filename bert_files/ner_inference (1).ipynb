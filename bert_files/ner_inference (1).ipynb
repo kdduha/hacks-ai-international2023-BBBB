{
 "cells": [
  {
   "cell_type": "code",
   "execution_count": 1,
   "id": "73f81039",
   "metadata": {
    "id": "73f81039"
   },
   "outputs": [],
   "source": [
    "from transformers import pipeline\n",
    "import torch"
   ]
  },
  {
   "cell_type": "code",
   "execution_count": 14,
   "id": "44668ca1",
   "metadata": {
    "id": "44668ca1"
   },
   "outputs": [],
   "source": [
    "class Ner_Extractor:\n",
    "    \"\"\"\n",
    "    Labeling each token in sentence as named entity\n",
    "\n",
    "    :param model_checkpoint: name or path to model\n",
    "    :type model_checkpoint: string\n",
    "    \"\"\"\n",
    "\n",
    "    def __init__(self, model_checkpoint: str):\n",
    "        self.token_pred_pipeline = pipeline(\"token-classification\",\n",
    "                                            model=model_checkpoint,\n",
    "                                            aggregation_strategy=\"average\")\n",
    "\n",
    "    @staticmethod\n",
    "    def text_color(txt, txt_c=\"blue\", txt_hglt=\"on_yellow\"):\n",
    "        \"\"\"\n",
    "        Coloring part of text\n",
    "\n",
    "        :param txt: part of text from sentence\n",
    "        :type txt: string\n",
    "        :param txt_c: text color\n",
    "        :type txt_c: string\n",
    "        :param txt_hglt: color of text highlighting\n",
    "        :type txt_hglt: string\n",
    "        :return: string with color labeling\n",
    "        :rtype: string\n",
    "        \"\"\"\n",
    "        return colored(txt, txt_c, txt_hglt)\n",
    "\n",
    "    @staticmethod\n",
    "    def concat_entities(ner_result):\n",
    "        \"\"\"\n",
    "        Concatenation entities from model output on grouped entities\n",
    "\n",
    "        :param ner_result: output from model pipeline\n",
    "        :type ner_result: list\n",
    "        :return: list of grouped entities with start - end position in text\n",
    "        :rtype: list\n",
    "        \"\"\"\n",
    "        entities = []\n",
    "        prev_entity = None\n",
    "        prev_end = 0\n",
    "        for i in range(len(ner_result)):\n",
    "\n",
    "            if (ner_result[i][\"entity_group\"] == prev_entity) &\\\n",
    "               (ner_result[i][\"start\"] == prev_end):\n",
    "\n",
    "                entities[i-1][2] = ner_result[i][\"end\"]\n",
    "                prev_entity = ner_result[i][\"entity_group\"]\n",
    "                prev_end = ner_result[i][\"end\"]\n",
    "            else:\n",
    "                entities.append([ner_result[i][\"entity_group\"],\n",
    "                                 ner_result[i][\"start\"],\n",
    "                                 ner_result[i][\"end\"]])\n",
    "                prev_entity = ner_result[i][\"entity_group\"]\n",
    "                prev_end = ner_result[i][\"end\"]\n",
    "\n",
    "        return entities\n",
    "\n",
    "\n",
    "    def colored_text(self, text: str, entities: list):\n",
    "        \"\"\"\n",
    "        Highlighting in the text named entities\n",
    "\n",
    "        :param text: sentence or a part of corpus\n",
    "        :type text: string\n",
    "        :param entities: concated entities on groups with start - end position in text\n",
    "        :type entities: list\n",
    "        :return: Highlighted sentence\n",
    "        :rtype: string\n",
    "        \"\"\"\n",
    "        colored_text = \"\"\n",
    "        init_pos = 0\n",
    "        for ent in entities:\n",
    "            if ent[1] > init_pos:\n",
    "                colored_text += text[init_pos: ent[1]]\n",
    "                colored_text += self.text_color(text[ent[1]: ent[2]]) + f\"({ent[0]})\"\n",
    "                init_pos = ent[2]\n",
    "            else:\n",
    "                colored_text += self.text_color(text[ent[1]: ent[2]]) + f\"({ent[0]})\"\n",
    "                init_pos = ent[2]\n",
    "\n",
    "        return colored_text\n",
    "\n",
    "\n",
    "    def get_entities(self, text: str):\n",
    "        \"\"\"\n",
    "        Extracting entities from text with them position in text\n",
    "\n",
    "        :param text: input sentence for preparing\n",
    "        :type text: string\n",
    "        :return: list with entities from text\n",
    "        :rtype: list\n",
    "        \"\"\"\n",
    "        assert len(text) > 0, text\n",
    "        entities = self.token_pred_pipeline(text)\n",
    "        # concat_ent = self.concat_entities(entities)\n",
    "\n",
    "        return entities\n",
    "\n",
    "\n",
    "    def show_ents_on_text(self, text: str):\n",
    "        \"\"\"\n",
    "        Highlighting named entities in input text\n",
    "\n",
    "        :param text: input sentence for preparing\n",
    "        :type text: string\n",
    "        :return: Highlighting text\n",
    "        :rtype: string\n",
    "        \"\"\"\n",
    "        assert len(text) > 0, text\n",
    "        entities = self.get_entities(text)\n",
    "\n",
    "        return self.colored_text(text, entities)"
   ]
  },
  {
   "cell_type": "code",
   "execution_count": 15,
   "id": "DWOILg2od0IS",
   "metadata": {
    "id": "DWOILg2od0IS"
   },
   "outputs": [],
   "source": [
    "def unite_entities(extractor, text):\n",
    "  entity_list = extractor.get_entities(text)\n",
    "\n",
    "  output = []\n",
    "  for i in range(len(entity_list)-1):\n",
    "      if entity_list[i+1][1] - entity_list[i][2] == 1:\n",
    "          output.append([entity_list[i][0], entity_list[i][1], entity_list[i+1][2]])\n",
    "      else:\n",
    "          output.append(entity_list[i])\n",
    "  return output"
   ]
  },
  {
   "cell_type": "code",
   "execution_count": 16,
   "id": "554bc5ff",
   "metadata": {
    "collapsed": false,
    "jupyter": {
     "outputs_hidden": false
    }
   },
   "outputs": [],
   "source": [
    "extractor = Ner_Extractor(model_checkpoint = \"surdan/LaBSE_ner_nerel\")"
   ]
  },
  {
   "cell_type": "code",
   "execution_count": 17,
   "id": "vxvUMtgrfeex",
   "metadata": {
    "id": "vxvUMtgrfeex"
   },
   "outputs": [],
   "source": [
    "text_exmp = \"'Добрый день. Подскажите пожалуйста по такому вопросу. Подала на выплату с 3-7. Есть старший сын студент очник. Предоставила в соц защиту справку о стипендии в электронном варианте. Соц.защита требует в бумажном виде . Сказали , что будет отказ. Дети на практике и взять справку на руки не предоставляется возможным. В прошлом году сама соц.защита предложила в электронном варианте справку послать, а в этом нужна бумага. Правомерно ли поступают в нашей соц.защите г. Чусового? Спасибо.\""
   ]
  },
  {
   "cell_type": "code",
   "execution_count": 20,
   "id": "aa2ba6d5-106d-437c-9c9d-6418e14e1b05",
   "metadata": {},
   "outputs": [
    {
     "data": {
      "text/plain": [
       "'3-7'"
      ]
     },
     "execution_count": 20,
     "metadata": {},
     "output_type": "execute_result"
    }
   ],
   "source": [
    "text_exmp[75:78]"
   ]
  },
  {
   "cell_type": "code",
   "execution_count": 22,
   "id": "00803bd0-cd9e-4a46-9032-91534532a060",
   "metadata": {},
   "outputs": [
    {
     "data": {
      "text/plain": [
       "[{'entity_group': 'ORDINAL',\n",
       "  'score': 0.9697609,\n",
       "  'word': '3',\n",
       "  'start': 75,\n",
       "  'end': 76},\n",
       " {'entity_group': 'ORDINAL',\n",
       "  'score': 0.64828557,\n",
       "  'word': '7',\n",
       "  'start': 77,\n",
       "  'end': 78},\n",
       " {'entity_group': 'PROFESSION',\n",
       "  'score': 0.9998497,\n",
       "  'word': 'студент',\n",
       "  'start': 97,\n",
       "  'end': 104},\n",
       " {'entity_group': 'PROFESSION',\n",
       "  'score': 0.99975973,\n",
       "  'word': 'очник',\n",
       "  'start': 105,\n",
       "  'end': 110},\n",
       " {'entity_group': 'ORGANIZATION',\n",
       "  'score': 0.999985,\n",
       "  'word': 'соц защиту',\n",
       "  'start': 127,\n",
       "  'end': 137},\n",
       " {'entity_group': 'ORGANIZATION',\n",
       "  'score': 0.9999734,\n",
       "  'word': 'Соц',\n",
       "  'start': 182,\n",
       "  'end': 185},\n",
       " {'entity_group': 'ORGANIZATION',\n",
       "  'score': 0.9999631,\n",
       "  'word': '. защита',\n",
       "  'start': 185,\n",
       "  'end': 192},\n",
       " {'entity_group': 'DATE',\n",
       "  'score': 0.9999862,\n",
       "  'word': 'В прошлом году',\n",
       "  'start': 317,\n",
       "  'end': 331},\n",
       " {'entity_group': 'ORGANIZATION',\n",
       "  'score': 0.9999831,\n",
       "  'word': 'соц',\n",
       "  'start': 337,\n",
       "  'end': 340},\n",
       " {'entity_group': 'ORGANIZATION',\n",
       "  'score': 0.9999793,\n",
       "  'word': '. защита',\n",
       "  'start': 340,\n",
       "  'end': 347},\n",
       " {'entity_group': 'ORGANIZATION',\n",
       "  'score': 0.9999285,\n",
       "  'word': 'соц',\n",
       "  'start': 454,\n",
       "  'end': 457},\n",
       " {'entity_group': 'ORGANIZATION',\n",
       "  'score': 0.9676488,\n",
       "  'word': '. защите',\n",
       "  'start': 457,\n",
       "  'end': 464},\n",
       " {'entity_group': 'CITY',\n",
       "  'score': 0.6544253,\n",
       "  'word': 'Чусового',\n",
       "  'start': 468,\n",
       "  'end': 476}]"
      ]
     },
     "execution_count": 22,
     "metadata": {},
     "output_type": "execute_result"
    }
   ],
   "source": [
    "result = extractor.get_entities(text_exmp)\n",
    "result"
   ]
  },
  {
   "cell_type": "code",
   "execution_count": 24,
   "id": "0d1de32d-fd61-48ec-8aa9-f8e52be86cee",
   "metadata": {},
   "outputs": [],
   "source": [
    "res_dict = []\n",
    "for i in range(1, len(result)):\n",
    "    if result[i]['start'] - result[i-1]['end'] == 1:\n",
    "        res_dict.append({\n",
    "            'entity_group': result[i]['entity_group'],\n",
    "            'start': result[i-1]['start'],\n",
    "            'end': result[i]['end']\n",
    "        })\n",
    "    else:\n",
    "        res_dict.append({\n",
    "            'entity_group': result[i]['entity_group'],\n",
    "            'start': result[i]['start'],\n",
    "            'end': result[i]['end']\n",
    "        })"
   ]
  },
  {
   "cell_type": "code",
   "execution_count": 25,
   "id": "RUed-D0CTpJt",
   "metadata": {
    "colab": {
     "base_uri": "https://localhost:8080/"
    },
    "id": "RUed-D0CTpJt",
    "outputId": "cdd11b84-56c3-40e0-c131-5fc828aecec2"
   },
   "outputs": [
    {
     "data": {
      "text/plain": [
       "[{'entity_group': 'ORDINAL', 'start': 75, 'end': 78},\n",
       " {'entity_group': 'PROFESSION', 'start': 97, 'end': 104},\n",
       " {'entity_group': 'PROFESSION', 'start': 97, 'end': 110},\n",
       " {'entity_group': 'ORGANIZATION', 'start': 127, 'end': 137},\n",
       " {'entity_group': 'ORGANIZATION', 'start': 182, 'end': 185},\n",
       " {'entity_group': 'ORGANIZATION', 'start': 185, 'end': 192},\n",
       " {'entity_group': 'DATE', 'start': 317, 'end': 331},\n",
       " {'entity_group': 'ORGANIZATION', 'start': 337, 'end': 340},\n",
       " {'entity_group': 'ORGANIZATION', 'start': 340, 'end': 347},\n",
       " {'entity_group': 'ORGANIZATION', 'start': 454, 'end': 457},\n",
       " {'entity_group': 'ORGANIZATION', 'start': 457, 'end': 464},\n",
       " {'entity_group': 'CITY', 'start': 468, 'end': 476}]"
      ]
     },
     "execution_count": 25,
     "metadata": {},
     "output_type": "execute_result"
    }
   ],
   "source": [
    "res_dict"
   ]
  },
  {
   "cell_type": "code",
   "execution_count": 19,
   "id": "iweO1PhuT7co",
   "metadata": {
    "colab": {
     "base_uri": "https://localhost:8080/"
    },
    "id": "iweO1PhuT7co",
    "outputId": "68de46ff-bd3a-4192-ca43-5f6adb3d06d4"
   },
   "outputs": [
    {
     "ename": "KeyError",
     "evalue": "1",
     "output_type": "error",
     "traceback": [
      "\u001b[0;31m---------------------------------------------------------------------------\u001b[0m",
      "\u001b[0;31mKeyError\u001b[0m                                  Traceback (most recent call last)",
      "Cell \u001b[0;32mIn[19], line 1\u001b[0m\n\u001b[0;32m----> 1\u001b[0m \u001b[43munite_entities\u001b[49m\u001b[43m(\u001b[49m\u001b[43mextractor\u001b[49m\u001b[43m,\u001b[49m\u001b[43m \u001b[49m\u001b[43mtext_exmp\u001b[49m\u001b[43m)\u001b[49m\n",
      "Cell \u001b[0;32mIn[15], line 6\u001b[0m, in \u001b[0;36munite_entities\u001b[0;34m(extractor, text)\u001b[0m\n\u001b[1;32m      4\u001b[0m output \u001b[38;5;241m=\u001b[39m []\n\u001b[1;32m      5\u001b[0m \u001b[38;5;28;01mfor\u001b[39;00m i \u001b[38;5;129;01min\u001b[39;00m \u001b[38;5;28mrange\u001b[39m(\u001b[38;5;28mlen\u001b[39m(entity_list)\u001b[38;5;241m-\u001b[39m\u001b[38;5;241m1\u001b[39m):\n\u001b[0;32m----> 6\u001b[0m     \u001b[38;5;28;01mif\u001b[39;00m \u001b[43mentity_list\u001b[49m\u001b[43m[\u001b[49m\u001b[43mi\u001b[49m\u001b[38;5;241;43m+\u001b[39;49m\u001b[38;5;241;43m1\u001b[39;49m\u001b[43m]\u001b[49m\u001b[43m[\u001b[49m\u001b[38;5;241;43m1\u001b[39;49m\u001b[43m]\u001b[49m \u001b[38;5;241m-\u001b[39m entity_list[i][\u001b[38;5;241m2\u001b[39m] \u001b[38;5;241m==\u001b[39m \u001b[38;5;241m1\u001b[39m:\n\u001b[1;32m      7\u001b[0m         output\u001b[38;5;241m.\u001b[39mappend([entity_list[i][\u001b[38;5;241m0\u001b[39m], entity_list[i][\u001b[38;5;241m1\u001b[39m], entity_list[i\u001b[38;5;241m+\u001b[39m\u001b[38;5;241m1\u001b[39m][\u001b[38;5;241m2\u001b[39m]])\n\u001b[1;32m      8\u001b[0m     \u001b[38;5;28;01melse\u001b[39;00m:\n",
      "\u001b[0;31mKeyError\u001b[0m: 1"
     ]
    }
   ],
   "source": [
    "unite_entities(extractor, text_exmp)"
   ]
  },
  {
   "cell_type": "code",
   "execution_count": null,
   "id": "_LIcy9ROVX2b",
   "metadata": {
    "id": "_LIcy9ROVX2b"
   },
   "outputs": [],
   "source": []
  }
 ],
 "metadata": {
  "colab": {
   "provenance": []
  },
  "kernelspec": {
   "display_name": "Python 3 (ipykernel)",
   "language": "python",
   "name": "python3"
  },
  "language_info": {
   "codemirror_mode": {
    "name": "ipython",
    "version": 3
   },
   "file_extension": ".py",
   "mimetype": "text/x-python",
   "name": "python",
   "nbconvert_exporter": "python",
   "pygments_lexer": "ipython3",
   "version": "3.9.18"
  }
 },
 "nbformat": 4,
 "nbformat_minor": 5
}
