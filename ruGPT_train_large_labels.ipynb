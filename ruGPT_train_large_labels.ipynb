{
 "cells": [
  {
   "cell_type": "markdown",
   "id": "1c3fd8ba",
   "metadata": {},
   "source": [
    "Training was done in kuggle"
   ]
  },
  {
   "cell_type": "markdown",
   "id": "b4ffcea8",
   "metadata": {},
   "source": [
    "### Preparation"
   ]
  },
  {
   "cell_type": "code",
   "execution_count": 1,
   "id": "89e2ec65-37bd-4bc3-a851-ca8a39302375",
   "metadata": {
    "execution": {
     "iopub.execute_input": "2023-11-24T07:07:33.483886Z",
     "iopub.status.busy": "2023-11-24T07:07:33.482721Z",
     "iopub.status.idle": "2023-11-24T07:07:40.093601Z",
     "shell.execute_reply": "2023-11-24T07:07:40.092384Z",
     "shell.execute_reply.started": "2023-11-24T07:07:33.483832Z"
    },
    "tags": []
   },
   "outputs": [
    {
     "name": "stderr",
     "output_type": "stream",
     "text": [
      "2023-11-24 07:07:38.752731: W tensorflow/compiler/tf2tensorrt/utils/py_utils.cc:38] TF-TRT Warning: Could not find TensorRT\n"
     ]
    }
   ],
   "source": [
    "import torch\n",
    "from tqdm.notebook import tqdm\n",
    "\n",
    "import pandas as pd\n",
    "\n",
    "from torch.utils.data import Dataset, DataLoader\n",
    "from sklearn.metrics import classification_report, accuracy_score, f1_score\n",
    "from transformers import (set_seed,\n",
    "                          TrainingArguments,\n",
    "                          Trainer,\n",
    "                          GPT2Config,\n",
    "                          AutoTokenizer,\n",
    "                          GPT2Tokenizer,\n",
    "                          AdamW, \n",
    "                          get_cosine_schedule_with_warmup,\n",
    "                          GPT2ForSequenceClassification, \n",
    "                          T5ForConditionalGeneration)\n",
    "\n",
    "epochs = 4\n",
    "batch_size = 20\n",
    "max_length = 612\n",
    "\n",
    "device = torch.device('cuda' if torch.cuda.is_available() else 'cpu')\n",
    "\n",
    "model_name_or_path = 'ai-forever/rugpt3small_based_on_gpt2'"
   ]
  },
  {
   "cell_type": "code",
   "execution_count": 2,
   "id": "b0510a26-670a-4fcc-a48b-ce3779d386db",
   "metadata": {
    "execution": {
     "iopub.execute_input": "2023-11-24T07:07:40.096328Z",
     "iopub.status.busy": "2023-11-24T07:07:40.095251Z",
     "iopub.status.idle": "2023-11-24T07:07:40.359091Z",
     "shell.execute_reply": "2023-11-24T07:07:40.357922Z",
     "shell.execute_reply.started": "2023-11-24T07:07:40.096272Z"
    },
    "tags": []
   },
   "outputs": [],
   "source": [
    "# renaming columns\n",
    "df = pd.read_csv(\"/home/jupyter/datasphere/project/train_dataset_train.csv\", sep=';')\n",
    "df = df[['Текст инцидента', 'Группа тем']]\n",
    "df.columns = ['text', 'label']"
   ]
  },
  {
   "cell_type": "code",
   "execution_count": 3,
   "id": "d6e7bf2a-9f62-45ae-ba79-158495889c64",
   "metadata": {
    "execution": {
     "iopub.execute_input": "2023-11-24T07:07:40.362075Z",
     "iopub.status.busy": "2023-11-24T07:07:40.361275Z",
     "iopub.status.idle": "2023-11-24T07:07:40.388895Z",
     "shell.execute_reply": "2023-11-24T07:07:40.387850Z",
     "shell.execute_reply.started": "2023-11-24T07:07:40.362027Z"
    },
    "tags": []
   },
   "outputs": [
    {
     "data": {
      "text/html": [
       "<div>\n",
       "<style scoped>\n",
       "    .dataframe tbody tr th:only-of-type {\n",
       "        vertical-align: middle;\n",
       "    }\n",
       "\n",
       "    .dataframe tbody tr th {\n",
       "        vertical-align: top;\n",
       "    }\n",
       "\n",
       "    .dataframe thead th {\n",
       "        text-align: right;\n",
       "    }\n",
       "</style>\n",
       "<table border=\"1\" class=\"dataframe\">\n",
       "  <thead>\n",
       "    <tr style=\"text-align: right;\">\n",
       "      <th></th>\n",
       "      <th>text</th>\n",
       "      <th>label</th>\n",
       "    </tr>\n",
       "  </thead>\n",
       "  <tbody>\n",
       "    <tr>\n",
       "      <th>0</th>\n",
       "      <td>'Добрый день. Сегодня, 20.08.22, моя мать шла ...</td>\n",
       "      <td>Благоустройство</td>\n",
       "    </tr>\n",
       "    <tr>\n",
       "      <th>1</th>\n",
       "      <td>'Пермь г, +79194692145. В Перми с ноября 2021 ...</td>\n",
       "      <td>Социальное обслуживание и защита</td>\n",
       "    </tr>\n",
       "    <tr>\n",
       "      <th>2</th>\n",
       "      <td>'Добрый день ! Скажите пожалуйста если подовал...</td>\n",
       "      <td>Социальное обслуживание и защита</td>\n",
       "    </tr>\n",
       "    <tr>\n",
       "      <th>3</th>\n",
       "      <td>'Каждая из них не о чем. Люди на остановках хо...</td>\n",
       "      <td>Общественный транспорт</td>\n",
       "    </tr>\n",
       "    <tr>\n",
       "      <th>4</th>\n",
       "      <td>'В Березниках у сына привитого откоронавируса ...</td>\n",
       "      <td>Здравоохранение/Медицина</td>\n",
       "    </tr>\n",
       "  </tbody>\n",
       "</table>\n",
       "</div>"
      ],
      "text/plain": [
       "                                                text                             label\n",
       "0  'Добрый день. Сегодня, 20.08.22, моя мать шла ...                   Благоустройство\n",
       "1  'Пермь г, +79194692145. В Перми с ноября 2021 ...  Социальное обслуживание и защита\n",
       "2  'Добрый день ! Скажите пожалуйста если подовал...  Социальное обслуживание и защита\n",
       "3  'Каждая из них не о чем. Люди на остановках хо...            Общественный транспорт\n",
       "4  'В Березниках у сына привитого откоронавируса ...          Здравоохранение/Медицина"
      ]
     },
     "execution_count": 3,
     "metadata": {},
     "output_type": "execute_result"
    }
   ],
   "source": [
    "df.head()"
   ]
  },
  {
   "cell_type": "code",
   "execution_count": 4,
   "id": "452a723f-9cdd-4523-871a-9b06ece39f85",
   "metadata": {
    "execution": {
     "iopub.execute_input": "2023-11-24T07:07:40.391331Z",
     "iopub.status.busy": "2023-11-24T07:07:40.390598Z",
     "iopub.status.idle": "2023-11-24T07:07:40.413664Z",
     "shell.execute_reply": "2023-11-24T07:07:40.412649Z",
     "shell.execute_reply.started": "2023-11-24T07:07:40.391287Z"
    },
    "tags": []
   },
   "outputs": [],
   "source": [
    "labels = list(df.label.unique())\n",
    "label2id = dict(zip(labels, list(range(len(labels)))))\n",
    "n_labels = len(label2id)"
   ]
  },
  {
   "cell_type": "code",
   "execution_count": 5,
   "id": "53f915bb-aa27-41d5-ab41-2be38f7c9e92",
   "metadata": {
    "execution": {
     "iopub.execute_input": "2023-11-24T07:07:40.415747Z",
     "iopub.status.busy": "2023-11-24T07:07:40.414860Z",
     "iopub.status.idle": "2023-11-24T07:07:40.428802Z",
     "shell.execute_reply": "2023-11-24T07:07:40.427614Z",
     "shell.execute_reply.started": "2023-11-24T07:07:40.415690Z"
    },
    "tags": []
   },
   "outputs": [],
   "source": [
    "class MyDataset(Dataset):\n",
    "    def __init__(self, df, tokenizer):\n",
    "        self.n_examples = df.shape[0]\n",
    "        self.texts = df['text'].to_list()\n",
    "        self.labels = df['label'].to_list()\n",
    "  \n",
    "    def __len__(self):\n",
    "        return self.n_examples\n",
    "\n",
    "    def __getitem__(self, item):\n",
    "        return {'text':self.texts[item], 'label':self.labels[item]}"
   ]
  },
  {
   "cell_type": "code",
   "execution_count": 6,
   "id": "6f8f1a2e-87a4-4a9e-a09b-50d16e4f0763",
   "metadata": {
    "execution": {
     "iopub.execute_input": "2023-11-24T07:07:40.431262Z",
     "iopub.status.busy": "2023-11-24T07:07:40.430192Z",
     "iopub.status.idle": "2023-11-24T07:07:40.446709Z",
     "shell.execute_reply": "2023-11-24T07:07:40.445365Z",
     "shell.execute_reply.started": "2023-11-24T07:07:40.431228Z"
    },
    "tags": []
   },
   "outputs": [],
   "source": [
    "class Gpt2ClassificationCollator(object):\n",
    "    def __init__(self, tokenizer, labels_encoder, max_sequence_len=None):\n",
    "            self.use_tokenizer = tokenizer\n",
    "            self.max_sequence_len = tokenizer.model_max_length if max_sequence_len is None else max_sequence_len\n",
    "            self.labels_encoder = labels_encoder\n",
    "\n",
    "\n",
    "    def __call__(self, sequences):\n",
    "        # Get all texts from sequences list.\n",
    "        texts = [sequence['text'] for sequence in sequences]\n",
    "        # Get all labels from sequences list.\n",
    "        labels = [sequence['label'] for sequence in sequences]\n",
    "        # Encode all labels using label encoder.\n",
    "        labels = [self.labels_encoder[label] for label in labels]\n",
    "        # Call tokenizer on all texts to convert into tensors of numbers with \n",
    "        # appropriate padding.\n",
    "        inputs = self.use_tokenizer(text=texts, return_tensors=\"pt\", padding=True, truncation=True,  max_length=self.max_sequence_len)\n",
    "        # Update the inputs with the associated encoded labels as tensor.\n",
    "        inputs.update({'labels':torch.tensor(labels)})\n",
    "\n",
    "        return inputs\n"
   ]
  },
  {
   "cell_type": "code",
   "execution_count": 7,
   "id": "3c6aac2e-47bf-4101-8c0d-35edb6b7a8f7",
   "metadata": {
    "execution": {
     "iopub.execute_input": "2023-11-24T07:07:40.449027Z",
     "iopub.status.busy": "2023-11-24T07:07:40.448258Z",
     "iopub.status.idle": "2023-11-24T07:07:40.464205Z",
     "shell.execute_reply": "2023-11-24T07:07:40.463061Z",
     "shell.execute_reply.started": "2023-11-24T07:07:40.448996Z"
    },
    "tags": []
   },
   "outputs": [],
   "source": [
    "from torch.nn import CrossEntropyLoss\n",
    "\n",
    "def train(dataloader, optimizer_, scheduler_, device_):\n",
    "    global model\n",
    "\n",
    "    predictions_labels = []\n",
    "    true_labels = []\n",
    "    total_loss = 0\n",
    "    \n",
    "    loss_fn = CrossEntropyLoss()\n",
    "\n",
    "    model.train()\n",
    "\n",
    "    for batch in tqdm(dataloader, total=len(dataloader)):\n",
    "\n",
    "        true_labels += batch['labels'].numpy().flatten().tolist()\n",
    "\n",
    "        batch = {k:v.type(torch.long).to(device_) for k,v in batch.items()}\n",
    "\n",
    "        model.zero_grad()\n",
    "\n",
    "        outputs = model(**batch)\n",
    "\n",
    "        loss, logits = outputs[:2]\n",
    "\n",
    "        total_loss += loss.item()\n",
    "\n",
    "        loss.backward()\n",
    "\n",
    "        torch.nn.utils.clip_grad_norm_(model.parameters(), 1.0)\n",
    "\n",
    "        optimizer_.step()\n",
    "\n",
    "        scheduler_.step()\n",
    "\n",
    "        logits = logits.detach().cpu().numpy()\n",
    "\n",
    "        predictions_labels += logits.argmax(axis=-1).flatten().tolist()\n",
    "\n",
    "    avg_epoch_loss = total_loss / len(dataloader)\n",
    "\n",
    "    return true_labels, predictions_labels, avg_epoch_loss"
   ]
  },
  {
   "cell_type": "code",
   "execution_count": 8,
   "id": "073e98ad-e1f7-414c-8c2a-afa369f13648",
   "metadata": {
    "execution": {
     "iopub.execute_input": "2023-11-24T07:07:40.467900Z",
     "iopub.status.busy": "2023-11-24T07:07:40.467128Z",
     "iopub.status.idle": "2023-11-24T07:07:40.487939Z",
     "shell.execute_reply": "2023-11-24T07:07:40.486624Z",
     "shell.execute_reply.started": "2023-11-24T07:07:40.467866Z"
    },
    "tags": []
   },
   "outputs": [],
   "source": [
    "def validation(dataloader, device_):\n",
    "    global model\n",
    "\n",
    "    predictions_labels = []\n",
    "    true_labels = []\n",
    "    total_loss = 0\n",
    "\n",
    "    model.eval()\n",
    "\n",
    "    for batch in tqdm(dataloader, total=len(dataloader)):\n",
    "\n",
    "        true_labels += batch['labels'].numpy().flatten().tolist()\n",
    "\n",
    "        batch = {k:v.type(torch.long).to(device_) for k,v in batch.items()}\n",
    "\n",
    "        with torch.no_grad():        \n",
    "\n",
    "            outputs = model(**batch)\n",
    "\n",
    "            loss, logits = outputs[:2]\n",
    "\n",
    "            logits = logits.detach().cpu().numpy()\n",
    "\n",
    "            total_loss += loss.item()\n",
    "\n",
    "            predict_content = logits.argmax(axis=-1).flatten().tolist()\n",
    "\n",
    "            predictions_labels += predict_content\n",
    "\n",
    "    avg_epoch_loss = total_loss / len(dataloader)\n",
    "\n",
    "    return true_labels, predictions_labels, avg_epoch_loss"
   ]
  },
  {
   "cell_type": "markdown",
   "id": "e9cc79b2",
   "metadata": {},
   "source": [
    "### Training"
   ]
  },
  {
   "cell_type": "code",
   "execution_count": 9,
   "id": "8812cf8b-1135-4890-ae4a-f1ae3fc4ba00",
   "metadata": {
    "execution": {
     "iopub.execute_input": "2023-11-24T07:07:40.490197Z",
     "iopub.status.busy": "2023-11-24T07:07:40.489482Z",
     "iopub.status.idle": "2023-11-24T07:08:01.135509Z",
     "shell.execute_reply": "2023-11-24T07:08:01.134265Z",
     "shell.execute_reply.started": "2023-11-24T07:07:40.490138Z"
    },
    "tags": []
   },
   "outputs": [
    {
     "name": "stdout",
     "output_type": "stream",
     "text": [
      "Loading configuraiton...\n"
     ]
    },
    {
     "data": {
      "application/vnd.jupyter.widget-view+json": {
       "model_id": "1ad8c40a0f454a3181bb8ad40447be24",
       "version_major": 2,
       "version_minor": 0
      },
      "text/plain": [
       "config.json:   0%|          | 0.00/608 [00:00<?, ?B/s]"
      ]
     },
     "metadata": {},
     "output_type": "display_data"
    },
    {
     "name": "stdout",
     "output_type": "stream",
     "text": [
      "Loading tokenizer...\n"
     ]
    },
    {
     "data": {
      "application/vnd.jupyter.widget-view+json": {
       "model_id": "a95c766fba374e9f8c95aecb3ef6d9e7",
       "version_major": 2,
       "version_minor": 0
      },
      "text/plain": [
       "vocab.json:   0%|          | 0.00/1.71M [00:00<?, ?B/s]"
      ]
     },
     "metadata": {},
     "output_type": "display_data"
    },
    {
     "data": {
      "application/vnd.jupyter.widget-view+json": {
       "model_id": "f74f4cfb557d4ae495cc518b807177d4",
       "version_major": 2,
       "version_minor": 0
      },
      "text/plain": [
       "merges.txt:   0%|          | 0.00/1.27M [00:00<?, ?B/s]"
      ]
     },
     "metadata": {},
     "output_type": "display_data"
    },
    {
     "name": "stdout",
     "output_type": "stream",
     "text": [
      "Loading model...\n"
     ]
    },
    {
     "data": {
      "application/vnd.jupyter.widget-view+json": {
       "model_id": "7d478d4c9c6641498984950257a05868",
       "version_major": 2,
       "version_minor": 0
      },
      "text/plain": [
       "pytorch_model.bin:   0%|          | 0.00/551M [00:00<?, ?B/s]"
      ]
     },
     "metadata": {},
     "output_type": "display_data"
    },
    {
     "name": "stderr",
     "output_type": "stream",
     "text": [
      "Some weights of GPT2ForSequenceClassification were not initialized from the model checkpoint at ai-forever/rugpt3small_based_on_gpt2 and are newly initialized: ['score.weight']\n",
      "You should probably TRAIN this model on a down-stream task to be able to use it for predictions and inference.\n"
     ]
    },
    {
     "name": "stdout",
     "output_type": "stream",
     "text": [
      "Model loaded to `cuda`\n"
     ]
    }
   ],
   "source": [
    "print('Loading configuraiton...')\n",
    "model_config = GPT2Config.from_pretrained(pretrained_model_name_or_path=model_name_or_path, num_labels=n_labels)\n",
    "\n",
    "print('Loading tokenizer...')\n",
    "tokenizer = GPT2Tokenizer.from_pretrained(pretrained_model_name_or_path=model_name_or_path)\n",
    "tokenizer.padding_side = \"left\"\n",
    "tokenizer.pad_token = tokenizer.eos_token\n",
    "\n",
    "print('Loading model...')\n",
    "model = GPT2ForSequenceClassification.from_pretrained(pretrained_model_name_or_path=model_name_or_path, config=model_config)\n",
    "\n",
    "model.resize_token_embeddings(len(tokenizer))\n",
    "model.config.pad_token_id = model.config.eos_token_id\n",
    "\n",
    "model.to(device)\n",
    "print('Model loaded to `%s`'%device)"
   ]
  },
  {
   "cell_type": "markdown",
   "id": "e8c3fe77",
   "metadata": {},
   "source": [
    "#### Training with original data¶"
   ]
  },
  {
   "cell_type": "code",
   "execution_count": 10,
   "id": "95557c62-c419-4ce0-97c9-907bf37af8e3",
   "metadata": {
    "execution": {
     "iopub.execute_input": "2023-11-24T07:08:01.137844Z",
     "iopub.status.busy": "2023-11-24T07:08:01.137095Z",
     "iopub.status.idle": "2023-11-24T07:08:01.199533Z",
     "shell.execute_reply": "2023-11-24T07:08:01.198263Z",
     "shell.execute_reply.started": "2023-11-24T07:08:01.137812Z"
    },
    "tags": []
   },
   "outputs": [],
   "source": [
    "from sklearn.model_selection import train_test_split\n",
    "\n",
    "X_train, X_val, y_train, y_val = train_test_split(df[\"text\"], df[\"label\"], test_size=0.2, random_state=42, \n",
    "                                                    stratify=df[\"label\"], shuffle=True)"
   ]
  },
  {
   "cell_type": "code",
   "execution_count": 11,
   "id": "5e5229a1-d15c-418c-a757-04ddf90538a3",
   "metadata": {
    "execution": {
     "iopub.execute_input": "2023-11-24T07:08:01.201655Z",
     "iopub.status.busy": "2023-11-24T07:08:01.200829Z",
     "iopub.status.idle": "2023-11-24T07:08:01.227537Z",
     "shell.execute_reply": "2023-11-24T07:08:01.226382Z",
     "shell.execute_reply.started": "2023-11-24T07:08:01.201573Z"
    },
    "tags": []
   },
   "outputs": [],
   "source": [
    "df_train = pd.DataFrame(data={\n",
    "    \"text\": X_train,\n",
    "    \"label\": y_train\n",
    "})\n",
    "\n",
    "df_val = pd.DataFrame(data={\n",
    "    \"text\": X_val,\n",
    "    \"label\": y_val\n",
    "})"
   ]
  },
  {
   "cell_type": "code",
   "execution_count": 12,
   "id": "c7a1f0f6-6b5b-42c7-9387-21d8936739f2",
   "metadata": {
    "execution": {
     "iopub.execute_input": "2023-11-24T07:08:01.229453Z",
     "iopub.status.busy": "2023-11-24T07:08:01.228763Z",
     "iopub.status.idle": "2023-11-24T07:08:01.261752Z",
     "shell.execute_reply": "2023-11-24T07:08:01.260635Z",
     "shell.execute_reply.started": "2023-11-24T07:08:01.229424Z"
    },
    "tags": []
   },
   "outputs": [
    {
     "name": "stdout",
     "output_type": "stream",
     "text": [
      "Dealing with Train...\n",
      "Created `train_dataset` with 18502 examples!\n",
      "Created `train_dataloader` with 926 batches!\n",
      "\n"
     ]
    }
   ],
   "source": [
    "gpt2_classificaiton_collator = Gpt2ClassificationCollator(tokenizer=tokenizer, \n",
    "                                                          labels_encoder=label2id, \n",
    "                                                          max_sequence_len=max_length)\n",
    "\n",
    "\n",
    "print('Dealing with Train...')\n",
    "train_dataset = MyDataset(df=df_train, \n",
    "                               tokenizer=tokenizer)\n",
    "print('Created `train_dataset` with %d examples!'%len(train_dataset))\n",
    "\n",
    "train_dataloader = DataLoader(train_dataset, batch_size=batch_size, shuffle=True, collate_fn=gpt2_classificaiton_collator)\n",
    "print('Created `train_dataloader` with %d batches!'%len(train_dataloader))\n",
    "\n",
    "print()"
   ]
  },
  {
   "cell_type": "code",
   "execution_count": 13,
   "id": "9377a90b-e927-4a2a-a430-886271b770d1",
   "metadata": {
    "execution": {
     "iopub.execute_input": "2023-11-24T07:08:01.263679Z",
     "iopub.status.busy": "2023-11-24T07:08:01.262966Z",
     "iopub.status.idle": "2023-11-24T07:08:01.315519Z",
     "shell.execute_reply": "2023-11-24T07:08:01.314293Z",
     "shell.execute_reply.started": "2023-11-24T07:08:01.263648Z"
    },
    "tags": []
   },
   "outputs": [
    {
     "name": "stdout",
     "output_type": "stream",
     "text": [
      "Dealing with Validation...\n",
      "Created `valid_dataset` with 4626 examples!\n",
      "Created `eval_dataloader` with 232 batches!\n"
     ]
    }
   ],
   "source": [
    "print('Dealing with Validation...')\n",
    "valid_dataset =  MyDataset(df=df_val, \n",
    "                               tokenizer=tokenizer)\n",
    "print('Created `valid_dataset` with %d examples!'%len(valid_dataset))\n",
    "\n",
    "valid_dataloader = DataLoader(valid_dataset, batch_size=batch_size, shuffle=False, collate_fn=gpt2_classificaiton_collator)\n",
    "print('Created `eval_dataloader` with %d batches!'%len(valid_dataloader))"
   ]
  },
  {
   "cell_type": "code",
   "execution_count": 14,
   "id": "c3537d2d-d60e-464c-9573-f75431366b8f",
   "metadata": {
    "execution": {
     "iopub.execute_input": "2023-11-24T07:08:01.318005Z",
     "iopub.status.busy": "2023-11-24T07:08:01.316919Z",
     "iopub.status.idle": "2023-11-24T07:32:56.380724Z",
     "shell.execute_reply": "2023-11-24T07:32:56.379349Z",
     "shell.execute_reply.started": "2023-11-24T07:08:01.317954Z"
    },
    "tags": []
   },
   "outputs": [
    {
     "name": "stdout",
     "output_type": "stream",
     "text": [
      "Epoch\n"
     ]
    },
    {
     "data": {
      "application/vnd.jupyter.widget-view+json": {
       "model_id": "eaafbb9774784147a58bee5a6957d451",
       "version_major": 2,
       "version_minor": 0
      },
      "text/plain": [
       "  0%|          | 0/4 [00:00<?, ?it/s]"
      ]
     },
     "metadata": {},
     "output_type": "display_data"
    },
    {
     "name": "stdout",
     "output_type": "stream",
     "text": [
      "\n",
      "Training on batches...\n"
     ]
    },
    {
     "data": {
      "application/vnd.jupyter.widget-view+json": {
       "model_id": "167610265ab846cf8fd9252e02fd1533",
       "version_major": 2,
       "version_minor": 0
      },
      "text/plain": [
       "  0%|          | 0/926 [00:00<?, ?it/s]"
      ]
     },
     "metadata": {},
     "output_type": "display_data"
    },
    {
     "name": "stdout",
     "output_type": "stream",
     "text": [
      "Validation on batches...\n"
     ]
    },
    {
     "data": {
      "application/vnd.jupyter.widget-view+json": {
       "model_id": "8903c8728f5a42f89a64df6d617e93aa",
       "version_major": 2,
       "version_minor": 0
      },
      "text/plain": [
       "  0%|          | 0/232 [00:00<?, ?it/s]"
      ]
     },
     "metadata": {},
     "output_type": "display_data"
    },
    {
     "name": "stdout",
     "output_type": "stream",
     "text": [
      "train_loss: 1.00315 - val_loss: 0.84139 - train_f1: 0.31363 - val_f1: 0.36394\n",
      "\n",
      "\n",
      "Training on batches...\n"
     ]
    },
    {
     "data": {
      "application/vnd.jupyter.widget-view+json": {
       "model_id": "17f87156c05b42f68f1d6faa4d1005e3",
       "version_major": 2,
       "version_minor": 0
      },
      "text/plain": [
       "  0%|          | 0/926 [00:00<?, ?it/s]"
      ]
     },
     "metadata": {},
     "output_type": "display_data"
    },
    {
     "name": "stdout",
     "output_type": "stream",
     "text": [
      "Validation on batches...\n"
     ]
    },
    {
     "data": {
      "application/vnd.jupyter.widget-view+json": {
       "model_id": "9ef4665f14c14e68b11aa932099dc4b7",
       "version_major": 2,
       "version_minor": 0
      },
      "text/plain": [
       "  0%|          | 0/232 [00:00<?, ?it/s]"
      ]
     },
     "metadata": {},
     "output_type": "display_data"
    },
    {
     "name": "stdout",
     "output_type": "stream",
     "text": [
      "train_loss: 0.61726 - val_loss: 0.74319 - train_f1: 0.45799 - val_f1: 0.43419\n",
      "\n",
      "\n",
      "Training on batches...\n"
     ]
    },
    {
     "data": {
      "application/vnd.jupyter.widget-view+json": {
       "model_id": "9fa60fe49f1f4a87ac5db6f0ae8b5ddc",
       "version_major": 2,
       "version_minor": 0
      },
      "text/plain": [
       "  0%|          | 0/926 [00:00<?, ?it/s]"
      ]
     },
     "metadata": {},
     "output_type": "display_data"
    },
    {
     "name": "stdout",
     "output_type": "stream",
     "text": [
      "Validation on batches...\n"
     ]
    },
    {
     "data": {
      "application/vnd.jupyter.widget-view+json": {
       "model_id": "1f013fbf5cda435c9ff86c737fa8d681",
       "version_major": 2,
       "version_minor": 0
      },
      "text/plain": [
       "  0%|          | 0/232 [00:00<?, ?it/s]"
      ]
     },
     "metadata": {},
     "output_type": "display_data"
    },
    {
     "name": "stdout",
     "output_type": "stream",
     "text": [
      "train_loss: 0.36380 - val_loss: 0.79848 - train_f1: 0.66044 - val_f1: 0.48903\n",
      "\n",
      "\n",
      "Training on batches...\n"
     ]
    },
    {
     "data": {
      "application/vnd.jupyter.widget-view+json": {
       "model_id": "e6da20d920a64fa78b27fcb28eeccc8e",
       "version_major": 2,
       "version_minor": 0
      },
      "text/plain": [
       "  0%|          | 0/926 [00:00<?, ?it/s]"
      ]
     },
     "metadata": {},
     "output_type": "display_data"
    },
    {
     "name": "stdout",
     "output_type": "stream",
     "text": [
      "Validation on batches...\n"
     ]
    },
    {
     "data": {
      "application/vnd.jupyter.widget-view+json": {
       "model_id": "eb014f71bf3748ab80881c89ec4b4ee5",
       "version_major": 2,
       "version_minor": 0
      },
      "text/plain": [
       "  0%|          | 0/232 [00:00<?, ?it/s]"
      ]
     },
     "metadata": {},
     "output_type": "display_data"
    },
    {
     "name": "stdout",
     "output_type": "stream",
     "text": [
      "train_loss: 0.20252 - val_loss: 0.96696 - train_f1: 0.86784 - val_f1: 0.49852\n",
      "\n"
     ]
    }
   ],
   "source": [
    "from sklearn.metrics import classification_report, accuracy_score, f1_score\n",
    "from transformers import Adafactor\n",
    "\n",
    "optimizer = Adafactor(model.parameters(),\n",
    "                  lr = 2e-3,\n",
    "                  relative_step=False)\n",
    "\n",
    "total_steps = len(train_dataloader) * epochs\n",
    "\n",
    "scheduler = get_cosine_schedule_with_warmup(optimizer, \n",
    "                                            num_warmup_steps = 0,\n",
    "                                            num_training_steps = total_steps)\n",
    "print('Epoch')\n",
    "for epoch in tqdm(range(epochs)):\n",
    "    print()\n",
    "    print('Training on batches...')\n",
    "\n",
    "    train_labels, train_predict, train_loss = train(train_dataloader, optimizer, scheduler, device)\n",
    "    train_f1 = f1_score(train_labels, train_predict, average='weighted')\n",
    "\n",
    "\n",
    "    print('Validation on batches...')\n",
    "    valid_labels, valid_predict, val_loss = validation(valid_dataloader, device)\n",
    "    val_f1 = f1_score(valid_labels, valid_predict, average='weighted')\n",
    "\n",
    "    print(\"train_loss: %.5f - val_loss: %.5f - train_f1: %.5f - val_f1: %.5f\"%(train_loss, val_loss, train_f1, val_f1))\n",
    "    print()"
   ]
  },
  {
   "cell_type": "code",
   "execution_count": 15,
   "id": "65275b8f-2014-461c-b702-4ae36efd9b16",
   "metadata": {
    "execution": {
     "iopub.execute_input": "2023-11-24T07:32:56.383337Z",
     "iopub.status.busy": "2023-11-24T07:32:56.382440Z",
     "iopub.status.idle": "2023-11-24T07:33:20.263919Z",
     "shell.execute_reply": "2023-11-24T07:33:20.262659Z",
     "shell.execute_reply.started": "2023-11-24T07:32:56.383299Z"
    },
    "tags": []
   },
   "outputs": [
    {
     "data": {
      "application/vnd.jupyter.widget-view+json": {
       "model_id": "7c4f64ad87c14768a3f218e92fa5ce9b",
       "version_major": 2,
       "version_minor": 0
      },
      "text/plain": [
       "  0%|          | 0/232 [00:00<?, ?it/s]"
      ]
     },
     "metadata": {},
     "output_type": "display_data"
    },
    {
     "name": "stderr",
     "output_type": "stream",
     "text": [
      "/usr/local/lib/python3.10/dist-packages/sklearn/metrics/_classification.py:1344: UndefinedMetricWarning: Precision and F-score are ill-defined and being set to 0.0 in labels with no predicted samples. Use `zero_division` parameter to control this behavior.\n",
      "  _warn_prf(average, modifier, msg_start, len(result))\n",
      "/usr/local/lib/python3.10/dist-packages/sklearn/metrics/_classification.py:1344: UndefinedMetricWarning: Precision and F-score are ill-defined and being set to 0.0 in labels with no predicted samples. Use `zero_division` parameter to control this behavior.\n",
      "  _warn_prf(average, modifier, msg_start, len(result))\n",
      "/usr/local/lib/python3.10/dist-packages/sklearn/metrics/_classification.py:1344: UndefinedMetricWarning: Precision and F-score are ill-defined and being set to 0.0 in labels with no predicted samples. Use `zero_division` parameter to control this behavior.\n",
      "  _warn_prf(average, modifier, msg_start, len(result))\n"
     ]
    }
   ],
   "source": [
    "valid_labels, valid_predict, val_loss = validation(valid_dataloader, device)\n",
    "report = classification_report(valid_labels, valid_predict)"
   ]
  },
  {
   "cell_type": "code",
   "execution_count": 16,
   "id": "be5ff493-c66d-411e-bdc7-855f17f4f436",
   "metadata": {
    "execution": {
     "iopub.execute_input": "2023-11-24T07:33:20.265983Z",
     "iopub.status.busy": "2023-11-24T07:33:20.265276Z",
     "iopub.status.idle": "2023-11-24T07:33:20.280009Z",
     "shell.execute_reply": "2023-11-24T07:33:20.278930Z",
     "shell.execute_reply.started": "2023-11-24T07:33:20.265949Z"
    },
    "tags": []
   },
   "outputs": [
    {
     "name": "stdout",
     "output_type": "stream",
     "text": [
      "              precision    recall  f1-score   support\n",
      "\n",
      "           0       0.66      0.62      0.64       506\n",
      "           1       0.87      0.90      0.88       925\n",
      "           2       0.85      0.86      0.85       174\n",
      "           3       0.86      0.88      0.87       935\n",
      "           4       0.80      0.74      0.77       347\n",
      "           5       0.67      0.67      0.67       140\n",
      "           6       0.72      0.81      0.76       626\n",
      "           7       0.80      0.82      0.81       541\n",
      "           8       0.72      0.56      0.63       162\n",
      "           9       0.00      0.00      0.00         6\n",
      "          10       0.33      0.21      0.26        14\n",
      "          11       0.23      0.26      0.24        47\n",
      "          12       0.79      0.88      0.83        17\n",
      "          13       0.78      0.63      0.70        60\n",
      "          14       0.25      0.12      0.16        17\n",
      "          15       0.75      0.78      0.76        27\n",
      "          16       0.00      0.00      0.00         3\n",
      "          17       0.61      0.46      0.52        24\n",
      "          18       1.00      0.50      0.67         4\n",
      "          19       0.33      0.30      0.32        23\n",
      "          20       0.75      0.60      0.67         5\n",
      "          21       0.00      0.00      0.00         5\n",
      "          22       0.50      0.20      0.29         5\n",
      "          23       0.00      0.00      0.00         4\n",
      "          24       0.50      0.50      0.50         2\n",
      "          25       0.20      0.14      0.17         7\n",
      "\n",
      "    accuracy                           0.78      4626\n",
      "   macro avg       0.54      0.48      0.50      4626\n",
      "weighted avg       0.78      0.78      0.78      4626\n",
      "\n"
     ]
    }
   ],
   "source": [
    "print(report)"
   ]
  },
  {
   "cell_type": "markdown",
   "id": "b2180a1f",
   "metadata": {},
   "source": [
    "#### Training with augmented data"
   ]
  },
  {
   "cell_type": "code",
   "execution_count": 18,
   "id": "058aed76-8f79-4ed4-84fe-270c5c364828",
   "metadata": {
    "execution": {
     "iopub.execute_input": "2023-11-24T07:40:55.633637Z",
     "iopub.status.busy": "2023-11-24T07:40:55.632636Z",
     "iopub.status.idle": "2023-11-24T07:40:55.902683Z",
     "shell.execute_reply": "2023-11-24T07:40:55.901447Z",
     "shell.execute_reply.started": "2023-11-24T07:40:55.633587Z"
    }
   },
   "outputs": [],
   "source": [
    "df_aug = pd.read_csv('augmented.csv').sample(frac=1).reset_index()"
   ]
  },
  {
   "cell_type": "code",
   "execution_count": 19,
   "id": "0515ea74-ddc5-4306-8e02-431c0e411973",
   "metadata": {
    "execution": {
     "iopub.execute_input": "2023-11-24T07:41:02.411821Z",
     "iopub.status.busy": "2023-11-24T07:41:02.410790Z",
     "iopub.status.idle": "2023-11-24T07:41:02.438007Z",
     "shell.execute_reply": "2023-11-24T07:41:02.436947Z",
     "shell.execute_reply.started": "2023-11-24T07:41:02.411766Z"
    }
   },
   "outputs": [],
   "source": [
    "df_train_aug = pd.DataFrame(data={\n",
    "    \"text\": df_aug.text,\n",
    "    \"label\": df_aug.big_labels\n",
    "})"
   ]
  },
  {
   "cell_type": "code",
   "execution_count": 20,
   "id": "d9eacc7f-dda1-4fdb-bc86-b9b12126a609",
   "metadata": {
    "execution": {
     "iopub.execute_input": "2023-11-24T07:41:03.852395Z",
     "iopub.status.busy": "2023-11-24T07:41:03.851337Z",
     "iopub.status.idle": "2023-11-24T07:41:03.869361Z",
     "shell.execute_reply": "2023-11-24T07:41:03.868196Z",
     "shell.execute_reply.started": "2023-11-24T07:41:03.852345Z"
    }
   },
   "outputs": [
    {
     "name": "stdout",
     "output_type": "stream",
     "text": [
      "Dealing with Train...\n",
      "Created `train_dataset` with 23594 examples!\n",
      "Created `train_dataloader` with 23594 batches!\n",
      "\n"
     ]
    }
   ],
   "source": [
    "print('Dealing with Train...')\n",
    "train_aug_dataset = MyDataset(df=df_train_aug, \n",
    "                               tokenizer=tokenizer)\n",
    "print('Created `train_dataset` with %d examples!'%len(train_aug_dataset))\n",
    "\n",
    "train_aug_dataloader = DataLoader(train_aug_dataset, batch_size=batch_size, shuffle=True, \n",
    "                              collate_fn=gpt2_classificaiton_collator)\n",
    "print('Created `train_dataloader` with %d batches!'%len(train_aug_dataset))\n",
    "\n",
    "print()"
   ]
  },
  {
   "cell_type": "code",
   "execution_count": 21,
   "id": "880dafe5-a594-47b2-ab3a-77495805da71",
   "metadata": {
    "execution": {
     "iopub.execute_input": "2023-11-24T07:41:07.417526Z",
     "iopub.status.busy": "2023-11-24T07:41:07.416647Z",
     "iopub.status.idle": "2023-11-24T08:00:29.822361Z",
     "shell.execute_reply": "2023-11-24T08:00:29.821289Z",
     "shell.execute_reply.started": "2023-11-24T07:41:07.417491Z"
    }
   },
   "outputs": [
    {
     "name": "stdout",
     "output_type": "stream",
     "text": [
      "Epoch\n"
     ]
    },
    {
     "data": {
      "application/vnd.jupyter.widget-view+json": {
       "model_id": "8a6ba50e309e4d5cbc3e1aeb47e4b2a6",
       "version_major": 2,
       "version_minor": 0
      },
      "text/plain": [
       "  0%|          | 0/4 [00:00<?, ?it/s]"
      ]
     },
     "metadata": {},
     "output_type": "display_data"
    },
    {
     "name": "stdout",
     "output_type": "stream",
     "text": [
      "\n",
      "Training on batches...\n"
     ]
    },
    {
     "data": {
      "application/vnd.jupyter.widget-view+json": {
       "model_id": "e43c9a2972b64435b11e4fda3cd8a83b",
       "version_major": 2,
       "version_minor": 0
      },
      "text/plain": [
       "  0%|          | 0/1180 [00:00<?, ?it/s]"
      ]
     },
     "metadata": {},
     "output_type": "display_data"
    },
    {
     "name": "stdout",
     "output_type": "stream",
     "text": [
      "Validation on batches...\n"
     ]
    },
    {
     "data": {
      "application/vnd.jupyter.widget-view+json": {
       "model_id": "612c9300775c439d93e4a15180555785",
       "version_major": 2,
       "version_minor": 0
      },
      "text/plain": [
       "  0%|          | 0/232 [00:00<?, ?it/s]"
      ]
     },
     "metadata": {},
     "output_type": "display_data"
    },
    {
     "name": "stdout",
     "output_type": "stream",
     "text": [
      "train_aug_loss: 0.76822 - val_loss: 0.68392 - train_aug_f1: 0.76498 - val_f1: 0.79696\n",
      "\n",
      "\n",
      "Training on batches...\n"
     ]
    },
    {
     "data": {
      "application/vnd.jupyter.widget-view+json": {
       "model_id": "b32b83077f864bb29d3c362c537477ea",
       "version_major": 2,
       "version_minor": 0
      },
      "text/plain": [
       "  0%|          | 0/1180 [00:00<?, ?it/s]"
      ]
     },
     "metadata": {},
     "output_type": "display_data"
    },
    {
     "name": "stdout",
     "output_type": "stream",
     "text": [
      "Validation on batches...\n"
     ]
    },
    {
     "data": {
      "application/vnd.jupyter.widget-view+json": {
       "model_id": "00df7ebfe05d45c88b082433ca0040f5",
       "version_major": 2,
       "version_minor": 0
      },
      "text/plain": [
       "  0%|          | 0/232 [00:00<?, ?it/s]"
      ]
     },
     "metadata": {},
     "output_type": "display_data"
    },
    {
     "name": "stdout",
     "output_type": "stream",
     "text": [
      "train_aug_loss: 0.46078 - val_loss: 0.59715 - train_aug_f1: 0.85592 - val_f1: 0.82308\n",
      "\n",
      "\n",
      "Training on batches...\n"
     ]
    },
    {
     "data": {
      "application/vnd.jupyter.widget-view+json": {
       "model_id": "109e4766decc4607a82b194b6ba652b3",
       "version_major": 2,
       "version_minor": 0
      },
      "text/plain": [
       "  0%|          | 0/1180 [00:00<?, ?it/s]"
      ]
     },
     "metadata": {},
     "output_type": "display_data"
    },
    {
     "name": "stdout",
     "output_type": "stream",
     "text": [
      "Validation on batches...\n"
     ]
    },
    {
     "data": {
      "application/vnd.jupyter.widget-view+json": {
       "model_id": "153fd9735bbf406fae48ae705770038d",
       "version_major": 2,
       "version_minor": 0
      },
      "text/plain": [
       "  0%|          | 0/232 [00:00<?, ?it/s]"
      ]
     },
     "metadata": {},
     "output_type": "display_data"
    },
    {
     "name": "stdout",
     "output_type": "stream",
     "text": [
      "train_aug_loss: 0.22483 - val_loss: 0.63751 - train_aug_f1: 0.92962 - val_f1: 0.84148\n",
      "\n",
      "\n",
      "Training on batches...\n"
     ]
    },
    {
     "data": {
      "application/vnd.jupyter.widget-view+json": {
       "model_id": "e7fbf1b223fd49a58afcd011b1d506dd",
       "version_major": 2,
       "version_minor": 0
      },
      "text/plain": [
       "  0%|          | 0/1180 [00:00<?, ?it/s]"
      ]
     },
     "metadata": {},
     "output_type": "display_data"
    },
    {
     "name": "stdout",
     "output_type": "stream",
     "text": [
      "Validation on batches...\n"
     ]
    },
    {
     "data": {
      "application/vnd.jupyter.widget-view+json": {
       "model_id": "d413a65522f844a0b29a1fb4fc906fbc",
       "version_major": 2,
       "version_minor": 0
      },
      "text/plain": [
       "  0%|          | 0/232 [00:00<?, ?it/s]"
      ]
     },
     "metadata": {},
     "output_type": "display_data"
    },
    {
     "name": "stdout",
     "output_type": "stream",
     "text": [
      "train_aug_loss: 0.16153 - val_loss: 0.68024 - train_aug_f1: 0.95157 - val_f1: 0.83846\n",
      "\n"
     ]
    }
   ],
   "source": [
    "optimizer = Adafactor(model.parameters(),\n",
    "                  lr = 2e-3,\n",
    "                  relative_step=False)\n",
    "\n",
    "total_steps = len(train_dataloader) * epochs\n",
    "\n",
    "scheduler = get_cosine_schedule_with_warmup(optimizer, \n",
    "                                            num_warmup_steps = 0,\n",
    "                                            num_training_steps = total_steps)\n",
    "\n",
    "print('Epoch')\n",
    "for epoch in tqdm(range(epochs)):\n",
    "    print()\n",
    "    print('Training on batches...')\n",
    "\n",
    "    train_aug_labels, train_aug_predict, train_aug_loss = train(train_aug_dataloader, optimizer, scheduler, device)\n",
    "    train_aug_f1 = f1_score(train_aug_labels, train_aug_predict, average='weighted')\n",
    "\n",
    "\n",
    "    print('Validation on batches...')\n",
    "    valid_labels, valid_predict, val_loss = validation(valid_dataloader, device)\n",
    "    val_f1 = f1_score(valid_labels, valid_predict, average='weighted')\n",
    "\n",
    "    print(\"train_aug_loss: %.5f - val_loss: %.5f - train_aug_f1: %.5f - val_f1: %.5f\"%(train_aug_loss, val_loss, train_aug_f1, val_f1))\n",
    "    print()"
   ]
  },
  {
   "cell_type": "code",
   "execution_count": 22,
   "id": "f5f07cae-6e7e-4a6c-b028-6d8e079176e8",
   "metadata": {
    "execution": {
     "iopub.execute_input": "2023-11-24T08:00:29.825389Z",
     "iopub.status.busy": "2023-11-24T08:00:29.824580Z",
     "iopub.status.idle": "2023-11-24T08:00:53.693524Z",
     "shell.execute_reply": "2023-11-24T08:00:53.692453Z",
     "shell.execute_reply.started": "2023-11-24T08:00:29.825353Z"
    }
   },
   "outputs": [
    {
     "data": {
      "application/vnd.jupyter.widget-view+json": {
       "model_id": "77691b94444f47448c906734e10ac805",
       "version_major": 2,
       "version_minor": 0
      },
      "text/plain": [
       "  0%|          | 0/232 [00:00<?, ?it/s]"
      ]
     },
     "metadata": {},
     "output_type": "display_data"
    }
   ],
   "source": [
    "valid_labels, valid_predict, val_loss = validation(valid_dataloader, device)\n",
    "report = classification_report(valid_labels, valid_predict)"
   ]
  },
  {
   "cell_type": "code",
   "execution_count": 23,
   "id": "aef5e5e9-5b77-4b6a-aaa6-58649665e2ab",
   "metadata": {
    "execution": {
     "iopub.execute_input": "2023-11-24T08:00:53.696195Z",
     "iopub.status.busy": "2023-11-24T08:00:53.695485Z",
     "iopub.status.idle": "2023-11-24T08:00:53.710157Z",
     "shell.execute_reply": "2023-11-24T08:00:53.709145Z",
     "shell.execute_reply.started": "2023-11-24T08:00:53.696149Z"
    },
    "tags": []
   },
   "outputs": [
    {
     "name": "stdout",
     "output_type": "stream",
     "text": [
      "              precision    recall  f1-score   support\n",
      "\n",
      "           0       0.78      0.69      0.73       506\n",
      "           1       0.94      0.89      0.91       925\n",
      "           2       0.94      0.86      0.90       174\n",
      "           3       0.89      0.90      0.90       935\n",
      "           4       0.73      0.88      0.80       347\n",
      "           5       0.94      0.76      0.84       140\n",
      "           6       0.83      0.83      0.83       626\n",
      "           7       0.91      0.81      0.85       541\n",
      "           8       0.87      0.64      0.74       162\n",
      "           9       0.20      1.00      0.33         6\n",
      "          10       0.86      0.43      0.57        14\n",
      "          11       0.74      0.49      0.59        47\n",
      "          12       0.52      0.94      0.67        17\n",
      "          13       0.91      0.70      0.79        60\n",
      "          14       0.10      0.76      0.18        17\n",
      "          15       0.83      0.70      0.76        27\n",
      "          16       0.12      1.00      0.21         3\n",
      "          17       0.83      0.79      0.81        24\n",
      "          18       0.50      1.00      0.67         4\n",
      "          19       0.55      0.52      0.53        23\n",
      "          20       0.71      1.00      0.83         5\n",
      "          21       0.50      1.00      0.67         5\n",
      "          22       0.24      0.80      0.36         5\n",
      "          23       0.40      0.50      0.44         4\n",
      "          24       0.33      1.00      0.50         2\n",
      "          25       0.30      1.00      0.47         7\n",
      "\n",
      "    accuracy                           0.83      4626\n",
      "   macro avg       0.63      0.80      0.65      4626\n",
      "weighted avg       0.86      0.83      0.84      4626\n",
      "\n"
     ]
    }
   ],
   "source": [
    "print(report)"
   ]
  },
  {
   "cell_type": "markdown",
   "id": "3de00813",
   "metadata": {},
   "source": [
    "Due to the augmentation data there is can be a leak in the validation part (because we augmented all data and trained with it). Later we checked F1-score with the correct validation and the actual score was about 0.81"
   ]
  },
  {
   "cell_type": "markdown",
   "id": "c0d92ef2",
   "metadata": {},
   "source": [
    "### Saving model's weights"
   ]
  },
  {
   "cell_type": "code",
   "execution_count": 24,
   "id": "1b0034a0-ebf5-48e3-ba85-34225f2eae2d",
   "metadata": {
    "execution": {
     "iopub.execute_input": "2023-11-24T08:03:21.012442Z",
     "iopub.status.busy": "2023-11-24T08:03:21.011203Z",
     "iopub.status.idle": "2023-11-24T08:03:24.565694Z",
     "shell.execute_reply": "2023-11-24T08:03:24.564337Z",
     "shell.execute_reply.started": "2023-11-24T08:03:21.012383Z"
    }
   },
   "outputs": [],
   "source": [
    "torch.save(model.state_dict(), f\"rugpt_large_labels_84.pt\")"
   ]
  },
  {
   "cell_type": "code",
   "execution_count": null,
   "id": "1c46b9db-78ce-4b18-bc38-6699c9139ac4",
   "metadata": {},
   "outputs": [],
   "source": []
  }
 ],
 "metadata": {
  "kernelspec": {
   "display_name": "Python 3 (ipykernel)",
   "language": "python",
   "name": "python3"
  },
  "language_info": {
   "codemirror_mode": {
    "name": "ipython",
    "version": 3
   },
   "file_extension": ".py",
   "mimetype": "text/x-python",
   "name": "python",
   "nbconvert_exporter": "python",
   "pygments_lexer": "ipython3",
   "version": "3.11.5"
  }
 },
 "nbformat": 4,
 "nbformat_minor": 5
}
