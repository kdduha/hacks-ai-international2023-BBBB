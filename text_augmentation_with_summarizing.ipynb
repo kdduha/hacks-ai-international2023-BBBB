{
 "cells": [
  {
   "cell_type": "code",
   "execution_count": 2,
   "metadata": {
    "execution": {
     "iopub.execute_input": "2023-11-24T05:33:23.176663Z",
     "iopub.status.busy": "2023-11-24T05:33:23.175522Z",
     "iopub.status.idle": "2023-11-24T05:33:35.200752Z",
     "shell.execute_reply": "2023-11-24T05:33:35.199478Z",
     "shell.execute_reply.started": "2023-11-24T05:33:23.176600Z"
    },
    "tags": []
   },
   "outputs": [],
   "source": [
    "import torch\n",
    "from tqdm.notebook import tqdm\n",
    "\n",
    "import pandas as pd\n",
    "import numpy as np\n",
    "from transformers import (AutoTokenizer,\n",
    "                          T5ForConditionalGeneration)\n",
    "\n",
    "device = torch.device('cuda' if torch.cuda.is_available() else \n",
    "                      ('mps' if torch.backends.mps.is_available() else 'cpu'))"
   ]
  },
  {
   "cell_type": "markdown",
   "metadata": {},
   "source": [
    "### Preparation"
   ]
  },
  {
   "cell_type": "code",
   "execution_count": null,
   "metadata": {},
   "outputs": [],
   "source": [
    "device"
   ]
  },
  {
   "cell_type": "code",
   "execution_count": null,
   "metadata": {},
   "outputs": [],
   "source": [
    "# downloading summary model\n",
    "summary_model_name = \"IlyaGusev/rut5_base_sum_gazeta\"\n",
    "summary_tokenizer = AutoTokenizer.from_pretrained(summary_model_name)\n",
    "summary_model = T5ForConditionalGeneration.from_pretrained(summary_model_name).half().to(device)"
   ]
  },
  {
   "cell_type": "code",
   "execution_count": 6,
   "metadata": {
    "execution": {
     "iopub.execute_input": "2023-11-24T05:34:06.603806Z",
     "iopub.status.busy": "2023-11-24T05:34:06.603286Z",
     "iopub.status.idle": "2023-11-24T05:34:06.631733Z",
     "shell.execute_reply": "2023-11-24T05:34:06.630306Z",
     "shell.execute_reply.started": "2023-11-24T05:34:06.603758Z"
    },
    "tags": []
   },
   "outputs": [],
   "source": [
    "checkpoints = []\n",
    "error_list = []"
   ]
  },
  {
   "cell_type": "code",
   "execution_count": 7,
   "metadata": {
    "execution": {
     "iopub.execute_input": "2023-11-24T05:34:06.634707Z",
     "iopub.status.busy": "2023-11-24T05:34:06.633216Z",
     "iopub.status.idle": "2023-11-24T05:34:06.658453Z",
     "shell.execute_reply": "2023-11-24T05:34:06.657095Z",
     "shell.execute_reply.started": "2023-11-24T05:34:06.634647Z"
    },
    "tags": []
   },
   "outputs": [],
   "source": [
    "# summarize batches of text\n",
    "def summary_text(df, tokenizer, model, batch_size=94):\n",
    "    \n",
    "    # generating batches from df\n",
    "    batches = [group.to_list() for name, group in df.text.groupby(np.arange(len(df)) // batch_size)]\n",
    "    result = []\n",
    "    \n",
    "    for batch in tqdm(batches, total=len(batches)):\n",
    "        \n",
    "        # in case of crashing\n",
    "        try:\n",
    "            input_ids = tokenizer(\n",
    "                batch,\n",
    "                max_length=600,\n",
    "                add_special_tokens=True,\n",
    "                padding=\"max_length\",\n",
    "                truncation=True,\n",
    "                return_tensors=\"pt\"\n",
    "            )[\"input_ids\"].to(device)\n",
    "\n",
    "            output_ids = model.generate(\n",
    "                input_ids=input_ids,\n",
    "                no_repeat_ngram_size=3,\n",
    "                early_stopping=True,\n",
    "                num_beams=2\n",
    "            )\n",
    "            \n",
    "            summaries = tokenizer.batch_decode(output_ids, skip_special_tokens=True)\n",
    "            \n",
    "            result.extend(summaries)\n",
    "            \n",
    "            # saving checkpoints in case of crashing\n",
    "            # storing checkpoints in the yandex datasphere with %\n",
    "            checkpoints.extend(summaries)\n",
    "            %store checkpoints\n",
    "            \n",
    "        except Exception as e:\n",
    "            error_list.append((len(result), len(result)+len(batch)))\n",
    "\n",
    "    return result"
   ]
  },
  {
   "cell_type": "code",
   "execution_count": 8,
   "metadata": {
    "execution": {
     "iopub.execute_input": "2023-11-24T05:34:06.661550Z",
     "iopub.status.busy": "2023-11-24T05:34:06.660207Z",
     "iopub.status.idle": "2023-11-24T05:34:07.012872Z",
     "shell.execute_reply": "2023-11-24T05:34:07.011761Z",
     "shell.execute_reply.started": "2023-11-24T05:34:06.661494Z"
    },
    "tags": []
   },
   "outputs": [],
   "source": [
    "df = pd.read_csv('/home/jupyter/datasphere/project/preprocessed.csv', sep=';')\n",
    "df = df[['Текст инцидента', 'Группа тем']]\n",
    "df.columns = ['text', 'label']"
   ]
  },
  {
   "cell_type": "markdown",
   "metadata": {},
   "source": [
    "### Summarizing and saving texts"
   ]
  },
  {
   "cell_type": "code",
   "execution_count": 9,
   "metadata": {
    "execution": {
     "iopub.execute_input": "2023-11-24T05:34:07.017303Z",
     "iopub.status.busy": "2023-11-24T05:34:07.016227Z",
     "iopub.status.idle": "2023-11-24T07:23:19.715411Z",
     "shell.execute_reply": "2023-11-24T07:23:19.714198Z",
     "shell.execute_reply.started": "2023-11-24T05:34:07.017247Z"
    },
    "tags": []
   },
   "outputs": [
    {
     "data": {
      "application/vnd.jupyter.widget-view+json": {
       "model_id": "48dce1ea4ae640e193c0f748372f15b2",
       "version_major": 2,
       "version_minor": 0
      },
      "text/plain": [
       "  0%|          | 0/243 [00:00<?, ?it/s]"
      ]
     },
     "metadata": {},
     "output_type": "display_data"
    },
    {
     "name": "stdout",
     "output_type": "stream",
     "text": [
      "Stored 'checkpoints' (list)\n",
      "Stored 'checkpoints' (list)\n",
      "Stored 'checkpoints' (list)\n",
      "Stored 'checkpoints' (list)\n",
      "Stored 'checkpoints' (list)\n",
      "Stored 'checkpoints' (list)\n",
      "Stored 'checkpoints' (list)\n",
      "Stored 'checkpoints' (list)\n",
      "Stored 'checkpoints' (list)\n",
      "Stored 'checkpoints' (list)\n",
      "Stored 'checkpoints' (list)\n",
      "Stored 'checkpoints' (list)\n",
      "Stored 'checkpoints' (list)\n",
      "Stored 'checkpoints' (list)\n",
      "Stored 'checkpoints' (list)\n",
      "Stored 'checkpoints' (list)\n",
      "Stored 'checkpoints' (list)\n",
      "Stored 'checkpoints' (list)\n",
      "Stored 'checkpoints' (list)\n",
      "Stored 'checkpoints' (list)\n",
      "Stored 'checkpoints' (list)\n",
      "Stored 'checkpoints' (list)\n",
      "Stored 'checkpoints' (list)\n",
      "Stored 'checkpoints' (list)\n",
      "Stored 'checkpoints' (list)\n",
      "Stored 'checkpoints' (list)\n",
      "Stored 'checkpoints' (list)\n",
      "Stored 'checkpoints' (list)\n",
      "Stored 'checkpoints' (list)\n",
      "Stored 'checkpoints' (list)\n",
      "Stored 'checkpoints' (list)\n",
      "Stored 'checkpoints' (list)\n",
      "Stored 'checkpoints' (list)\n",
      "Stored 'checkpoints' (list)\n",
      "Stored 'checkpoints' (list)\n",
      "Stored 'checkpoints' (list)\n",
      "Stored 'checkpoints' (list)\n",
      "Stored 'checkpoints' (list)\n",
      "Stored 'checkpoints' (list)\n",
      "Stored 'checkpoints' (list)\n",
      "Stored 'checkpoints' (list)\n",
      "Stored 'checkpoints' (list)\n",
      "Stored 'checkpoints' (list)\n",
      "Stored 'checkpoints' (list)\n",
      "Stored 'checkpoints' (list)\n",
      "Stored 'checkpoints' (list)\n",
      "Stored 'checkpoints' (list)\n",
      "Stored 'checkpoints' (list)\n",
      "Stored 'checkpoints' (list)\n",
      "Stored 'checkpoints' (list)\n",
      "Stored 'checkpoints' (list)\n",
      "Stored 'checkpoints' (list)\n",
      "Stored 'checkpoints' (list)\n",
      "Stored 'checkpoints' (list)\n",
      "Stored 'checkpoints' (list)\n",
      "Stored 'checkpoints' (list)\n",
      "Stored 'checkpoints' (list)\n",
      "Stored 'checkpoints' (list)\n",
      "Stored 'checkpoints' (list)\n",
      "Stored 'checkpoints' (list)\n",
      "Stored 'checkpoints' (list)\n",
      "Stored 'checkpoints' (list)\n",
      "Stored 'checkpoints' (list)\n",
      "Stored 'checkpoints' (list)\n",
      "Stored 'checkpoints' (list)\n",
      "Stored 'checkpoints' (list)\n",
      "Stored 'checkpoints' (list)\n",
      "Stored 'checkpoints' (list)\n",
      "Stored 'checkpoints' (list)\n",
      "Stored 'checkpoints' (list)\n",
      "Stored 'checkpoints' (list)\n",
      "Stored 'checkpoints' (list)\n",
      "Stored 'checkpoints' (list)\n",
      "Stored 'checkpoints' (list)\n",
      "Stored 'checkpoints' (list)\n",
      "Stored 'checkpoints' (list)\n",
      "Stored 'checkpoints' (list)\n",
      "Stored 'checkpoints' (list)\n",
      "Stored 'checkpoints' (list)\n",
      "Stored 'checkpoints' (list)\n",
      "Stored 'checkpoints' (list)\n",
      "Stored 'checkpoints' (list)\n",
      "Stored 'checkpoints' (list)\n",
      "Stored 'checkpoints' (list)\n",
      "Stored 'checkpoints' (list)\n",
      "Stored 'checkpoints' (list)\n",
      "Stored 'checkpoints' (list)\n",
      "Stored 'checkpoints' (list)\n",
      "Stored 'checkpoints' (list)\n",
      "Stored 'checkpoints' (list)\n",
      "Stored 'checkpoints' (list)\n",
      "Stored 'checkpoints' (list)\n",
      "Stored 'checkpoints' (list)\n",
      "Stored 'checkpoints' (list)\n",
      "Stored 'checkpoints' (list)\n",
      "Stored 'checkpoints' (list)\n",
      "Stored 'checkpoints' (list)\n",
      "Stored 'checkpoints' (list)\n",
      "Stored 'checkpoints' (list)\n",
      "Stored 'checkpoints' (list)\n",
      "Stored 'checkpoints' (list)\n",
      "Stored 'checkpoints' (list)\n",
      "Stored 'checkpoints' (list)\n",
      "Stored 'checkpoints' (list)\n",
      "Stored 'checkpoints' (list)\n",
      "Stored 'checkpoints' (list)\n",
      "Stored 'checkpoints' (list)\n",
      "Stored 'checkpoints' (list)\n",
      "Stored 'checkpoints' (list)\n",
      "Stored 'checkpoints' (list)\n",
      "Stored 'checkpoints' (list)\n",
      "Stored 'checkpoints' (list)\n",
      "Stored 'checkpoints' (list)\n",
      "Stored 'checkpoints' (list)\n",
      "Stored 'checkpoints' (list)\n",
      "Stored 'checkpoints' (list)\n",
      "Stored 'checkpoints' (list)\n",
      "Stored 'checkpoints' (list)\n",
      "Stored 'checkpoints' (list)\n",
      "Stored 'checkpoints' (list)\n",
      "Stored 'checkpoints' (list)\n",
      "Stored 'checkpoints' (list)\n",
      "Stored 'checkpoints' (list)\n",
      "Stored 'checkpoints' (list)\n",
      "Stored 'checkpoints' (list)\n",
      "Stored 'checkpoints' (list)\n",
      "Stored 'checkpoints' (list)\n",
      "Stored 'checkpoints' (list)\n",
      "Stored 'checkpoints' (list)\n",
      "Stored 'checkpoints' (list)\n",
      "Stored 'checkpoints' (list)\n",
      "Stored 'checkpoints' (list)\n",
      "Stored 'checkpoints' (list)\n",
      "Stored 'checkpoints' (list)\n",
      "Stored 'checkpoints' (list)\n",
      "Stored 'checkpoints' (list)\n",
      "Stored 'checkpoints' (list)\n",
      "Stored 'checkpoints' (list)\n",
      "Stored 'checkpoints' (list)\n",
      "Stored 'checkpoints' (list)\n",
      "Stored 'checkpoints' (list)\n",
      "Stored 'checkpoints' (list)\n",
      "Stored 'checkpoints' (list)\n",
      "Stored 'checkpoints' (list)\n",
      "Stored 'checkpoints' (list)\n",
      "Stored 'checkpoints' (list)\n",
      "Stored 'checkpoints' (list)\n",
      "Stored 'checkpoints' (list)\n",
      "Stored 'checkpoints' (list)\n",
      "Stored 'checkpoints' (list)\n",
      "Stored 'checkpoints' (list)\n",
      "Stored 'checkpoints' (list)\n",
      "Stored 'checkpoints' (list)\n",
      "Stored 'checkpoints' (list)\n",
      "Stored 'checkpoints' (list)\n",
      "Stored 'checkpoints' (list)\n",
      "Stored 'checkpoints' (list)\n",
      "Stored 'checkpoints' (list)\n",
      "Stored 'checkpoints' (list)\n",
      "Stored 'checkpoints' (list)\n",
      "Stored 'checkpoints' (list)\n",
      "Stored 'checkpoints' (list)\n",
      "Stored 'checkpoints' (list)\n",
      "Stored 'checkpoints' (list)\n",
      "Stored 'checkpoints' (list)\n",
      "Stored 'checkpoints' (list)\n",
      "Stored 'checkpoints' (list)\n",
      "Stored 'checkpoints' (list)\n",
      "Stored 'checkpoints' (list)\n",
      "Stored 'checkpoints' (list)\n",
      "Stored 'checkpoints' (list)\n",
      "Stored 'checkpoints' (list)\n",
      "Stored 'checkpoints' (list)\n",
      "Stored 'checkpoints' (list)\n",
      "Stored 'checkpoints' (list)\n",
      "Stored 'checkpoints' (list)\n",
      "Stored 'checkpoints' (list)\n",
      "Stored 'checkpoints' (list)\n",
      "Stored 'checkpoints' (list)\n",
      "Stored 'checkpoints' (list)\n",
      "Stored 'checkpoints' (list)\n",
      "Stored 'checkpoints' (list)\n",
      "Stored 'checkpoints' (list)\n",
      "Stored 'checkpoints' (list)\n",
      "Stored 'checkpoints' (list)\n",
      "Stored 'checkpoints' (list)\n",
      "Stored 'checkpoints' (list)\n",
      "Stored 'checkpoints' (list)\n",
      "Stored 'checkpoints' (list)\n",
      "Stored 'checkpoints' (list)\n",
      "Stored 'checkpoints' (list)\n",
      "Stored 'checkpoints' (list)\n",
      "Stored 'checkpoints' (list)\n",
      "Stored 'checkpoints' (list)\n",
      "Stored 'checkpoints' (list)\n",
      "Stored 'checkpoints' (list)\n",
      "Stored 'checkpoints' (list)\n",
      "Stored 'checkpoints' (list)\n",
      "Stored 'checkpoints' (list)\n",
      "Stored 'checkpoints' (list)\n",
      "Stored 'checkpoints' (list)\n",
      "Stored 'checkpoints' (list)\n",
      "Stored 'checkpoints' (list)\n",
      "Stored 'checkpoints' (list)\n",
      "Stored 'checkpoints' (list)\n",
      "Stored 'checkpoints' (list)\n",
      "Stored 'checkpoints' (list)\n",
      "Stored 'checkpoints' (list)\n",
      "Stored 'checkpoints' (list)\n",
      "Stored 'checkpoints' (list)\n",
      "Stored 'checkpoints' (list)\n",
      "Stored 'checkpoints' (list)\n",
      "Stored 'checkpoints' (list)\n",
      "Stored 'checkpoints' (list)\n",
      "Stored 'checkpoints' (list)\n",
      "Stored 'checkpoints' (list)\n",
      "Stored 'checkpoints' (list)\n",
      "Stored 'checkpoints' (list)\n",
      "Stored 'checkpoints' (list)\n",
      "Stored 'checkpoints' (list)\n",
      "Stored 'checkpoints' (list)\n",
      "Stored 'checkpoints' (list)\n",
      "Stored 'checkpoints' (list)\n",
      "Stored 'checkpoints' (list)\n",
      "Stored 'checkpoints' (list)\n",
      "Stored 'checkpoints' (list)\n",
      "Stored 'checkpoints' (list)\n",
      "Stored 'checkpoints' (list)\n",
      "Stored 'checkpoints' (list)\n",
      "Stored 'checkpoints' (list)\n",
      "Stored 'checkpoints' (list)\n",
      "Stored 'checkpoints' (list)\n",
      "Stored 'checkpoints' (list)\n",
      "Stored 'checkpoints' (list)\n",
      "Stored 'checkpoints' (list)\n",
      "Stored 'checkpoints' (list)\n",
      "Stored 'checkpoints' (list)\n",
      "Stored 'checkpoints' (list)\n",
      "Stored 'checkpoints' (list)\n",
      "Stored 'checkpoints' (list)\n",
      "Stored 'checkpoints' (list)\n"
     ]
    }
   ],
   "source": [
    "# summarizing text \n",
    "# it took about 2+ hours\n",
    "summaries = summary_text(df, summary_tokenizer, summary_model)"
   ]
  },
  {
   "cell_type": "code",
   "execution_count": 11,
   "metadata": {
    "execution": {
     "iopub.execute_input": "2023-11-24T07:24:12.741409Z",
     "iopub.status.busy": "2023-11-24T07:24:12.740742Z",
     "iopub.status.idle": "2023-11-24T07:24:12.757231Z",
     "shell.execute_reply": "2023-11-24T07:24:12.755890Z",
     "shell.execute_reply.started": "2023-11-24T07:24:12.741375Z"
    },
    "tags": []
   },
   "outputs": [
    {
     "data": {
      "text/plain": [
       "[(9588, 9682), (11938, 12032)]"
      ]
     },
     "execution_count": 11,
     "metadata": {},
     "output_type": "execute_result"
    }
   ],
   "source": [
    "# checking index'es of rows in batches with error\n",
    "error_list"
   ]
  },
  {
   "cell_type": "code",
   "execution_count": 13,
   "metadata": {
    "execution": {
     "iopub.execute_input": "2023-11-24T07:25:03.542352Z",
     "iopub.status.busy": "2023-11-24T07:25:03.541467Z",
     "iopub.status.idle": "2023-11-24T07:25:03.557114Z",
     "shell.execute_reply": "2023-11-24T07:25:03.555800Z",
     "shell.execute_reply.started": "2023-11-24T07:25:03.542305Z"
    },
    "tags": []
   },
   "outputs": [
    {
     "data": {
      "text/plain": [
       "22592"
      ]
     },
     "execution_count": 13,
     "metadata": {},
     "output_type": "execute_result"
    }
   ],
   "source": [
    "len(summaries)"
   ]
  },
  {
   "cell_type": "code",
   "execution_count": 18,
   "metadata": {
    "execution": {
     "iopub.execute_input": "2023-11-24T07:25:45.419324Z",
     "iopub.status.busy": "2023-11-24T07:25:45.418315Z",
     "iopub.status.idle": "2023-11-24T07:25:45.658504Z",
     "shell.execute_reply": "2023-11-24T07:25:45.656963Z",
     "shell.execute_reply.started": "2023-11-24T07:25:45.419281Z"
    },
    "tags": []
   },
   "outputs": [],
   "source": [
    "df_for_smol = pd.read_csv('/home/jupyter/datasphere/project/preprocessed.csv', sep=';')"
   ]
  },
  {
   "cell_type": "code",
   "execution_count": 19,
   "metadata": {
    "execution": {
     "iopub.execute_input": "2023-11-24T07:25:45.945689Z",
     "iopub.status.busy": "2023-11-24T07:25:45.944481Z",
     "iopub.status.idle": "2023-11-24T07:25:45.962414Z",
     "shell.execute_reply": "2023-11-24T07:25:45.961236Z",
     "shell.execute_reply.started": "2023-11-24T07:25:45.945633Z"
    },
    "tags": []
   },
   "outputs": [],
   "source": [
    "# mapping and cutting labels with summaries \n",
    "# considering batches errors\n",
    "big_labels = pd.concat([df.label.iloc[:9588], \n",
    "                        df.label.iloc[9682:11938], \n",
    "                        df.label.iloc[12032:]], \n",
    "                       ignore_index=True)\n",
    "\n",
    "smol_labels = pd.concat([df_for_smol[\"Тема\"].iloc[:9588], \n",
    "                         df_for_smol[\"Тема\"].iloc[9682:11938], \n",
    "                         df_for_smol[\"Тема\"].iloc[12032:]], \n",
    "                        ignore_index=True)"
   ]
  },
  {
   "cell_type": "code",
   "execution_count": 20,
   "metadata": {
    "execution": {
     "iopub.execute_input": "2023-11-24T07:25:47.940490Z",
     "iopub.status.busy": "2023-11-24T07:25:47.939610Z",
     "iopub.status.idle": "2023-11-24T07:25:47.957779Z",
     "shell.execute_reply": "2023-11-24T07:25:47.956540Z",
     "shell.execute_reply.started": "2023-11-24T07:25:47.940453Z"
    },
    "tags": []
   },
   "outputs": [
    {
     "data": {
      "text/plain": [
       "(22592,)"
      ]
     },
     "execution_count": 20,
     "metadata": {},
     "output_type": "execute_result"
    }
   ],
   "source": [
    "big_labels.shape"
   ]
  },
  {
   "cell_type": "code",
   "execution_count": 21,
   "metadata": {
    "execution": {
     "iopub.execute_input": "2023-11-24T07:25:50.640818Z",
     "iopub.status.busy": "2023-11-24T07:25:50.639383Z",
     "iopub.status.idle": "2023-11-24T07:25:50.660848Z",
     "shell.execute_reply": "2023-11-24T07:25:50.659758Z",
     "shell.execute_reply.started": "2023-11-24T07:25:50.640763Z"
    },
    "tags": []
   },
   "outputs": [
    {
     "data": {
      "text/plain": [
       "True"
      ]
     },
     "execution_count": 21,
     "metadata": {},
     "output_type": "execute_result"
    }
   ],
   "source": [
    "# checking mapping\n",
    "big_labels.shape[0] == smol_labels.shape[0] == len(summaries)"
   ]
  },
  {
   "cell_type": "code",
   "execution_count": 24,
   "metadata": {
    "execution": {
     "iopub.execute_input": "2023-11-24T07:26:24.520715Z",
     "iopub.status.busy": "2023-11-24T07:26:24.519729Z",
     "iopub.status.idle": "2023-11-24T07:26:24.570299Z",
     "shell.execute_reply": "2023-11-24T07:26:24.569142Z",
     "shell.execute_reply.started": "2023-11-24T07:26:24.520670Z"
    },
    "tags": []
   },
   "outputs": [
    {
     "data": {
      "text/html": [
       "<div>\n",
       "<style scoped>\n",
       "    .dataframe tbody tr th:only-of-type {\n",
       "        vertical-align: middle;\n",
       "    }\n",
       "\n",
       "    .dataframe tbody tr th {\n",
       "        vertical-align: top;\n",
       "    }\n",
       "\n",
       "    .dataframe thead th {\n",
       "        text-align: right;\n",
       "    }\n",
       "</style>\n",
       "<table border=\"1\" class=\"dataframe\">\n",
       "  <thead>\n",
       "    <tr style=\"text-align: right;\">\n",
       "      <th></th>\n",
       "      <th>text</th>\n",
       "      <th>big_labels</th>\n",
       "      <th>smol_labels</th>\n",
       "    </tr>\n",
       "  </thead>\n",
       "  <tbody>\n",
       "    <tr>\n",
       "      <th>0</th>\n",
       "      <td>В яму упала мать, упала ребенок. Сильно ударил...</td>\n",
       "      <td>Благоустройство</td>\n",
       "      <td>★ Ямы во дворах</td>\n",
       "    </tr>\n",
       "    <tr>\n",
       "      <th>1</th>\n",
       "      <td>В Перми с ноября года не работает социальное т...</td>\n",
       "      <td>Социальное обслуживание и защита</td>\n",
       "      <td>Оказание гос. соц. помощи</td>\n",
       "    </tr>\n",
       "    <tr>\n",
       "      <th>2</th>\n",
       "      <td>Если подавала на пособие с до декабря, когда м...</td>\n",
       "      <td>Социальное обслуживание и защита</td>\n",
       "      <td>Дети и многодетные семьи</td>\n",
       "    </tr>\n",
       "    <tr>\n",
       "      <th>3</th>\n",
       "      <td>На остановках можно будет только укрыться от н...</td>\n",
       "      <td>Общественный транспорт</td>\n",
       "      <td>Содержание остановок</td>\n",
       "    </tr>\n",
       "    <tr>\n",
       "      <th>4</th>\n",
       "      <td>В Березниках у сына принятого откоронавируса з...</td>\n",
       "      <td>Здравоохранение/Медицина</td>\n",
       "      <td>Технические проблемы с записью на прием к врачу</td>\n",
       "    </tr>\n",
       "    <tr>\n",
       "      <th>...</th>\n",
       "      <td>...</td>\n",
       "      <td>...</td>\n",
       "      <td>...</td>\n",
       "    </tr>\n",
       "    <tr>\n",
       "      <th>22587</th>\n",
       "      <td>Березники и Березники могут поучаствовать в пр...</td>\n",
       "      <td>Социальное обслуживание и защита</td>\n",
       "      <td>Улучшение жилищных условий</td>\n",
       "    </tr>\n",
       "    <tr>\n",
       "      <th>22588</th>\n",
       "      <td>В Гремячинск ситуация с теплой на улице Ленина...</td>\n",
       "      <td>ЖКХ</td>\n",
       "      <td>Ненадлежащее качество или отсутствие отопления</td>\n",
       "    </tr>\n",
       "    <tr>\n",
       "      <th>22589</th>\n",
       "      <td>У меня месячный ребёнок, тест на ковид положит...</td>\n",
       "      <td>Здравоохранение/Медицина</td>\n",
       "      <td>Технические проблемы с записью на прием к врачу</td>\n",
       "    </tr>\n",
       "    <tr>\n",
       "      <th>22590</th>\n",
       "      <td>В ближайшее время Федосеев и его коллега по ра...</td>\n",
       "      <td>Благоустройство</td>\n",
       "      <td>Благоустройство придомовых территорий</td>\n",
       "    </tr>\n",
       "    <tr>\n",
       "      <th>22591</th>\n",
       "      <td>Сколько готовится справка о малоимущей семьи, ...</td>\n",
       "      <td>Социальное обслуживание и защита</td>\n",
       "      <td>Оказание гос. соц. помощи</td>\n",
       "    </tr>\n",
       "  </tbody>\n",
       "</table>\n",
       "<p>22592 rows × 3 columns</p>\n",
       "</div>"
      ],
      "text/plain": [
       "                                                    text  ...                                      smol_labels\n",
       "0      В яму упала мать, упала ребенок. Сильно ударил...  ...                                  ★ Ямы во дворах\n",
       "1      В Перми с ноября года не работает социальное т...  ...                        Оказание гос. соц. помощи\n",
       "2      Если подавала на пособие с до декабря, когда м...  ...                         Дети и многодетные семьи\n",
       "3      На остановках можно будет только укрыться от н...  ...                             Содержание остановок\n",
       "4      В Березниках у сына принятого откоронавируса з...  ...  Технические проблемы с записью на прием к врачу\n",
       "...                                                  ...  ...                                              ...\n",
       "22587  Березники и Березники могут поучаствовать в пр...  ...                       Улучшение жилищных условий\n",
       "22588  В Гремячинск ситуация с теплой на улице Ленина...  ...   Ненадлежащее качество или отсутствие отопления\n",
       "22589  У меня месячный ребёнок, тест на ковид положит...  ...  Технические проблемы с записью на прием к врачу\n",
       "22590  В ближайшее время Федосеев и его коллега по ра...  ...            Благоустройство придомовых территорий\n",
       "22591  Сколько готовится справка о малоимущей семьи, ...  ...                        Оказание гос. соц. помощи\n",
       "\n",
       "[22592 rows x 3 columns]"
      ]
     },
     "execution_count": 24,
     "metadata": {},
     "output_type": "execute_result"
    }
   ],
   "source": [
    "# saving summaries\n",
    "df_summaries = pd.DataFrame(data={\n",
    "    \"text\": summaries,\n",
    "    \"big_labels\": big_labels,\n",
    "    \"smol_labels\": smol_labels\n",
    "})\n",
    "df_summaries"
   ]
  },
  {
   "cell_type": "code",
   "execution_count": 26,
   "metadata": {
    "execution": {
     "iopub.execute_input": "2023-11-24T07:26:50.590694Z",
     "iopub.status.busy": "2023-11-24T07:26:50.589703Z",
     "iopub.status.idle": "2023-11-24T07:26:50.622125Z",
     "shell.execute_reply": "2023-11-24T07:26:50.620930Z",
     "shell.execute_reply.started": "2023-11-24T07:26:50.590643Z"
    },
    "tags": []
   },
   "outputs": [
    {
     "data": {
      "text/html": [
       "<div>\n",
       "<style scoped>\n",
       "    .dataframe tbody tr th:only-of-type {\n",
       "        vertical-align: middle;\n",
       "    }\n",
       "\n",
       "    .dataframe tbody tr th {\n",
       "        vertical-align: top;\n",
       "    }\n",
       "\n",
       "    .dataframe thead th {\n",
       "        text-align: right;\n",
       "    }\n",
       "</style>\n",
       "<table border=\"1\" class=\"dataframe\">\n",
       "  <thead>\n",
       "    <tr style=\"text-align: right;\">\n",
       "      <th></th>\n",
       "      <th>text</th>\n",
       "      <th>big_labels</th>\n",
       "      <th>smol_labels</th>\n",
       "    </tr>\n",
       "  </thead>\n",
       "  <tbody>\n",
       "    <tr>\n",
       "      <th>0</th>\n",
       "      <td>Добрый день. Сегодня,.., моя мать шла по улице...</td>\n",
       "      <td>Благоустройство</td>\n",
       "      <td>★ Ямы во дворах</td>\n",
       "    </tr>\n",
       "    <tr>\n",
       "      <th>1</th>\n",
       "      <td>Пермь г,. В Перми с ноября года не работает со...</td>\n",
       "      <td>Социальное обслуживание и защита</td>\n",
       "      <td>Оказание гос. соц. помощи</td>\n",
       "    </tr>\n",
       "    <tr>\n",
       "      <th>2</th>\n",
       "      <td>Добрый день! Скажите пожалуйста если подавала ...</td>\n",
       "      <td>Социальное обслуживание и защита</td>\n",
       "      <td>Дети и многодетные семьи</td>\n",
       "    </tr>\n",
       "    <tr>\n",
       "      <th>3</th>\n",
       "      <td>Каждая из них не о чем. Люди на остановках хот...</td>\n",
       "      <td>Общественный транспорт</td>\n",
       "      <td>Содержание остановок</td>\n",
       "    </tr>\n",
       "    <tr>\n",
       "      <th>4</th>\n",
       "      <td>В Березниках у сына принятого откоронавируса з...</td>\n",
       "      <td>Здравоохранение/Медицина</td>\n",
       "      <td>Технические проблемы с записью на прием к врачу</td>\n",
       "    </tr>\n",
       "    <tr>\n",
       "      <th>...</th>\n",
       "      <td>...</td>\n",
       "      <td>...</td>\n",
       "      <td>...</td>\n",
       "    </tr>\n",
       "    <tr>\n",
       "      <th>22775</th>\n",
       "      <td>Березники официальные, а если ещё не погасили ...</td>\n",
       "      <td>Социальное обслуживание и защита</td>\n",
       "      <td>Улучшение жилищных условий</td>\n",
       "    </tr>\n",
       "    <tr>\n",
       "      <th>22776</th>\n",
       "      <td>Город Гремячинск ситуация с теплом на улице Ле...</td>\n",
       "      <td>ЖКХ</td>\n",
       "      <td>Ненадлежащее качество или отсутствие отопления</td>\n",
       "    </tr>\n",
       "    <tr>\n",
       "      <th>22777</th>\n",
       "      <td>Здравствуйте у меня ребёнку месяца, тест на ко...</td>\n",
       "      <td>Здравоохранение/Медицина</td>\n",
       "      <td>Технические проблемы с записью на прием к врачу</td>\n",
       "    </tr>\n",
       "    <tr>\n",
       "      <th>22778</th>\n",
       "      <td>А что творится с благоустройством дворов! Вооб...</td>\n",
       "      <td>Благоустройство</td>\n",
       "      <td>Благоустройство придомовых территорий</td>\n",
       "    </tr>\n",
       "    <tr>\n",
       "      <th>22779</th>\n",
       "      <td>Здравствуйте, подскажите пожалуйста. Сколько г...</td>\n",
       "      <td>Социальное обслуживание и защита</td>\n",
       "      <td>Оказание гос. соц. помощи</td>\n",
       "    </tr>\n",
       "  </tbody>\n",
       "</table>\n",
       "<p>22780 rows × 3 columns</p>\n",
       "</div>"
      ],
      "text/plain": [
       "                                                    text  ...                                      smol_labels\n",
       "0      Добрый день. Сегодня,.., моя мать шла по улице...  ...                                  ★ Ямы во дворах\n",
       "1      Пермь г,. В Перми с ноября года не работает со...  ...                        Оказание гос. соц. помощи\n",
       "2      Добрый день! Скажите пожалуйста если подавала ...  ...                         Дети и многодетные семьи\n",
       "3      Каждая из них не о чем. Люди на остановках хот...  ...                             Содержание остановок\n",
       "4      В Березниках у сына принятого откоронавируса з...  ...  Технические проблемы с записью на прием к врачу\n",
       "...                                                  ...  ...                                              ...\n",
       "22775  Березники официальные, а если ещё не погасили ...  ...                       Улучшение жилищных условий\n",
       "22776  Город Гремячинск ситуация с теплом на улице Ле...  ...   Ненадлежащее качество или отсутствие отопления\n",
       "22777  Здравствуйте у меня ребёнку месяца, тест на ко...  ...  Технические проблемы с записью на прием к врачу\n",
       "22778  А что творится с благоустройством дворов! Вооб...  ...            Благоустройство придомовых территорий\n",
       "22779  Здравствуйте, подскажите пожалуйста. Сколько г...  ...                        Оказание гос. соц. помощи\n",
       "\n",
       "[22780 rows x 3 columns]"
      ]
     },
     "execution_count": 26,
     "metadata": {},
     "output_type": "execute_result"
    }
   ],
   "source": [
    "df[\"small_labels\"] = df_for_smol[\"Тема\"]\n",
    "df.columns = ['text', 'big_labels', 'smol_labels']\n",
    "df"
   ]
  },
  {
   "cell_type": "code",
   "execution_count": 27,
   "metadata": {
    "execution": {
     "iopub.execute_input": "2023-11-24T07:26:56.948703Z",
     "iopub.status.busy": "2023-11-24T07:26:56.947550Z",
     "iopub.status.idle": "2023-11-24T07:26:56.993Z",
     "shell.execute_reply": "2023-11-24T07:26:56.991948Z",
     "shell.execute_reply.started": "2023-11-24T07:26:56.948669Z"
    },
    "tags": []
   },
   "outputs": [
    {
     "data": {
      "text/html": [
       "<div>\n",
       "<style scoped>\n",
       "    .dataframe tbody tr th:only-of-type {\n",
       "        vertical-align: middle;\n",
       "    }\n",
       "\n",
       "    .dataframe tbody tr th {\n",
       "        vertical-align: top;\n",
       "    }\n",
       "\n",
       "    .dataframe thead th {\n",
       "        text-align: right;\n",
       "    }\n",
       "</style>\n",
       "<table border=\"1\" class=\"dataframe\">\n",
       "  <thead>\n",
       "    <tr style=\"text-align: right;\">\n",
       "      <th></th>\n",
       "      <th>text</th>\n",
       "      <th>big_labels</th>\n",
       "      <th>smol_labels</th>\n",
       "    </tr>\n",
       "  </thead>\n",
       "  <tbody>\n",
       "    <tr>\n",
       "      <th>0</th>\n",
       "      <td>Мусоросжигательный завод строится! Кладбище бо...</td>\n",
       "      <td>Погребение и похоронное дело</td>\n",
       "      <td>Погребение и похоронное дело</td>\n",
       "    </tr>\n",
       "    <tr>\n",
       "      <th>1</th>\n",
       "      <td>Хочу добавить к посту, почему больницы не сооб...</td>\n",
       "      <td>Погребение и похоронное дело</td>\n",
       "      <td>Погребение и похоронное дело</td>\n",
       "    </tr>\n",
       "    <tr>\n",
       "      <th>2</th>\n",
       "      <td>В нашей Красновишерской скорой помощи при звон...</td>\n",
       "      <td>Погребение и похоронное дело</td>\n",
       "      <td>Погребение и похоронное дело</td>\n",
       "    </tr>\n",
       "    <tr>\n",
       "      <th>3</th>\n",
       "      <td>В Кудимкале похоронные компании платят налоги ...</td>\n",
       "      <td>Погребение и похоронное дело</td>\n",
       "      <td>Погребение и похоронное дело</td>\n",
       "    </tr>\n",
       "    <tr>\n",
       "      <th>4</th>\n",
       "      <td>Крематории, безусловно, нужны. Посмотрите коли...</td>\n",
       "      <td>Погребение и похоронное дело</td>\n",
       "      <td>Погребение и похоронное дело</td>\n",
       "    </tr>\n",
       "    <tr>\n",
       "      <th>...</th>\n",
       "      <td>...</td>\n",
       "      <td>...</td>\n",
       "      <td>...</td>\n",
       "    </tr>\n",
       "    <tr>\n",
       "      <th>997</th>\n",
       "      <td>город Пермь. Добрый вечер, адрес: ул. Водонагр...</td>\n",
       "      <td>Спецпроекты</td>\n",
       "      <td>Спецпроекты</td>\n",
       "    </tr>\n",
       "    <tr>\n",
       "      <th>998</th>\n",
       "      <td>Мир вам. Что значит побег? Почему вам следует ...</td>\n",
       "      <td>Спецпроекты</td>\n",
       "      <td>Спецпроекты</td>\n",
       "    </tr>\n",
       "    <tr>\n",
       "      <th>999</th>\n",
       "      <td>город Пермь. Спокойной ночи. Шум в этом году н...</td>\n",
       "      <td>Спецпроекты</td>\n",
       "      <td>Спецпроекты</td>\n",
       "    </tr>\n",
       "    <tr>\n",
       "      <th>1000</th>\n",
       "      <td>город Пермь. Куда писать негативные отзывы о б...</td>\n",
       "      <td>Спецпроекты</td>\n",
       "      <td>Спецпроекты</td>\n",
       "    </tr>\n",
       "    <tr>\n",
       "      <th>1001</th>\n",
       "      <td>Добро пожаловать! Можете ли вы добавить еще од...</td>\n",
       "      <td>Спецпроекты</td>\n",
       "      <td>Спецпроекты</td>\n",
       "    </tr>\n",
       "  </tbody>\n",
       "</table>\n",
       "<p>1002 rows × 3 columns</p>\n",
       "</div>"
      ],
      "text/plain": [
       "                                                   text  ...                   smol_labels\n",
       "0     Мусоросжигательный завод строится! Кладбище бо...  ...  Погребение и похоронное дело\n",
       "1     Хочу добавить к посту, почему больницы не сооб...  ...  Погребение и похоронное дело\n",
       "2     В нашей Красновишерской скорой помощи при звон...  ...  Погребение и похоронное дело\n",
       "3     В Кудимкале похоронные компании платят налоги ...  ...  Погребение и похоронное дело\n",
       "4     Крематории, безусловно, нужны. Посмотрите коли...  ...  Погребение и похоронное дело\n",
       "...                                                 ...  ...                           ...\n",
       "997   город Пермь. Добрый вечер, адрес: ул. Водонагр...  ...                   Спецпроекты\n",
       "998   Мир вам. Что значит побег? Почему вам следует ...  ...                   Спецпроекты\n",
       "999   город Пермь. Спокойной ночи. Шум в этом году н...  ...                   Спецпроекты\n",
       "1000  город Пермь. Куда писать негативные отзывы о б...  ...                   Спецпроекты\n",
       "1001  Добро пожаловать! Можете ли вы добавить еще од...  ...                   Спецпроекты\n",
       "\n",
       "[1002 rows x 3 columns]"
      ]
     },
     "execution_count": 27,
     "metadata": {},
     "output_type": "execute_result"
    }
   ],
   "source": [
    "df_augment = pd.read_csv(\"/home/jupyter/datasphere/project/augmented_translator.csv\")\n",
    "df_augment"
   ]
  },
  {
   "cell_type": "code",
   "execution_count": 28,
   "metadata": {
    "execution": {
     "iopub.execute_input": "2023-11-24T07:27:01.948877Z",
     "iopub.status.busy": "2023-11-24T07:27:01.947992Z",
     "iopub.status.idle": "2023-11-24T07:27:01.973583Z",
     "shell.execute_reply": "2023-11-24T07:27:01.972491Z",
     "shell.execute_reply.started": "2023-11-24T07:27:01.948841Z"
    }
   },
   "outputs": [
    {
     "data": {
      "text/plain": [
       "(23594, 3)"
      ]
     },
     "execution_count": 28,
     "metadata": {},
     "output_type": "execute_result"
    }
   ],
   "source": [
    "data = pd.concat([df_summaries, df_augment], ignore_index=True)\n",
    "data.shape"
   ]
  },
  {
   "cell_type": "code",
   "execution_count": 30,
   "metadata": {
    "execution": {
     "iopub.execute_input": "2023-11-24T07:27:13.103340Z",
     "iopub.status.busy": "2023-11-24T07:27:13.102407Z",
     "iopub.status.idle": "2023-11-24T07:27:13.144385Z",
     "shell.execute_reply": "2023-11-24T07:27:13.143391Z",
     "shell.execute_reply.started": "2023-11-24T07:27:13.103289Z"
    },
    "tags": []
   },
   "outputs": [
    {
     "name": "stdout",
     "output_type": "stream",
     "text": [
      "<class 'pandas.core.frame.DataFrame'>\n",
      "RangeIndex: 23594 entries, 0 to 23593\n",
      "Data columns (total 3 columns):\n",
      " #   Column       Non-Null Count  Dtype \n",
      "---  ------       --------------  ----- \n",
      " 0   text         23594 non-null  object\n",
      " 1   big_labels   23594 non-null  object\n",
      " 2   smol_labels  23594 non-null  object\n",
      "dtypes: object(3)\n",
      "memory usage: 553.1+ KB\n"
     ]
    }
   ],
   "source": [
    "data.info()"
   ]
  },
  {
   "cell_type": "code",
   "execution_count": 31,
   "metadata": {
    "execution": {
     "iopub.execute_input": "2023-11-24T07:27:26.454830Z",
     "iopub.status.busy": "2023-11-24T07:27:26.453820Z",
     "iopub.status.idle": "2023-11-24T07:27:26.770894Z",
     "shell.execute_reply": "2023-11-24T07:27:26.769650Z",
     "shell.execute_reply.started": "2023-11-24T07:27:26.454783Z"
    }
   },
   "outputs": [],
   "source": [
    "data.to_csv('augmented.csv', index=False)"
   ]
  },
  {
   "cell_type": "code",
   "execution_count": null,
   "metadata": {},
   "outputs": [],
   "source": []
  }
 ],
 "metadata": {
  "kaggle": {
   "accelerator": "gpu",
   "dataSources": [
    {
     "datasetId": 4002460,
     "sourceId": 6966628,
     "sourceType": "datasetVersion"
    },
    {
     "datasetId": 4011168,
     "sourceId": 6980088,
     "sourceType": "datasetVersion"
    },
    {
     "datasetId": 4047779,
     "sourceId": 7035994,
     "sourceType": "datasetVersion"
    }
   ],
   "dockerImageVersionId": 30580,
   "isGpuEnabled": true,
   "isInternetEnabled": true,
   "language": "python",
   "sourceType": "notebook"
  },
  "kernelspec": {
   "display_name": "Python 3 (ipykernel)",
   "language": "python",
   "name": "python3"
  },
  "language_info": {
   "codemirror_mode": {
    "name": "ipython",
    "version": 3
   },
   "file_extension": ".py",
   "mimetype": "text/x-python",
   "name": "python",
   "nbconvert_exporter": "python",
   "pygments_lexer": "ipython3",
   "version": "3.11.5"
  }
 },
 "nbformat": 4,
 "nbformat_minor": 4
}
